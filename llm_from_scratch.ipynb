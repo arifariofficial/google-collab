{
  "nbformat": 4,
  "nbformat_minor": 0,
  "metadata": {
    "colab": {
      "provenance": [],
      "mount_file_id": "1CHhBZsWD82QvI-e-RtSA9K7sxaBILOyV",
      "authorship_tag": "ABX9TyOcopaBngXVWN2wg25M2lan",
      "include_colab_link": true
    },
    "kernelspec": {
      "name": "python3",
      "display_name": "Python 3"
    },
    "language_info": {
      "name": "python"
    }
  },
  "cells": [
    {
      "cell_type": "markdown",
      "metadata": {
        "id": "view-in-github",
        "colab_type": "text"
      },
      "source": [
        "<a href=\"https://colab.research.google.com/github/arifariofficial/google-collab/blob/main/llm_from_scratch.ipynb\" target=\"_parent\"><img src=\"https://colab.research.google.com/assets/colab-badge.svg\" alt=\"Open In Colab\"/></a>"
      ]
    },
    {
      "cell_type": "code",
      "source": [
        "with open(\"/content/drive/MyDrive/Colab Notebooks/train.txt\", \"r\", encoding=\"utf-8\") as f:\n",
        "    text = f.read()"
      ],
      "metadata": {
        "id": "-vXSWahDSp6K"
      },
      "execution_count": 15,
      "outputs": []
    },
    {
      "cell_type": "code",
      "source": [
        "print(text)"
      ],
      "metadata": {
        "colab": {
          "base_uri": "https://localhost:8080/"
        },
        "id": "Cem1ta1SVzDR",
        "outputId": "5d60e1eb-7a79-403d-96c0-847a7b345180"
      },
      "execution_count": 17,
      "outputs": [
        {
          "output_type": "stream",
          "name": "stdout",
          "text": [
            "Hello, My name is Ariful Islam. I am originally from bangladesh. I have moved to Finland in 2009. I was studying in Saimia university of applied science. It was in Lappeenranta. I lived in Lappeenranta for 7 years. After that i moved to Espoo in 2017. I was driving Lahitaxi in 2017 and 2018. I got admitted to Metropolia university of applied science to study Information Technology.\n",
            "\n"
          ]
        }
      ]
    },
    {
      "cell_type": "code",
      "source": [
        "chars = sorted(set(text))\n",
        "print(chars)\n",
        "print(len(chars))"
      ],
      "metadata": {
        "colab": {
          "base_uri": "https://localhost:8080/"
        },
        "id": "Crt2PqAnb38z",
        "outputId": "fa1e91ec-1dc0-4ec3-9446-0677677094a9"
      },
      "execution_count": 20,
      "outputs": [
        {
          "output_type": "stream",
          "name": "stdout",
          "text": [
            "['\\n', ' ', ',', '.', '0', '1', '2', '7', '8', '9', 'A', 'E', 'F', 'H', 'I', 'L', 'M', 'S', 'T', 'a', 'b', 'c', 'd', 'e', 'f', 'g', 'h', 'i', 'l', 'm', 'n', 'o', 'p', 'r', 's', 't', 'u', 'v', 'w', 'x', 'y']\n",
            "41\n"
          ]
        }
      ]
    },
    {
      "cell_type": "code",
      "source": [
        "string_to_int = { ch:i for i, ch in enumerate(chars)}\n",
        "int_to_string = { i:ch for i, ch in enumerate(chars)}\n",
        "encode = lambda s: [string_to_int[c] for c in s]\n",
        "decode = lambda l: ''.join([int_to_string[i] for i in l])\n",
        "encoded_data = encode(\"hello\")\n",
        "print(encoded_data)"
      ],
      "metadata": {
        "colab": {
          "base_uri": "https://localhost:8080/"
        },
        "id": "SZsFu0h2gLrt",
        "outputId": "58bdd8bb-2416-49f5-c1cf-72f87539ce4b"
      },
      "execution_count": 25,
      "outputs": [
        {
          "output_type": "stream",
          "name": "stdout",
          "text": [
            "[26, 23, 28, 28, 31]\n"
          ]
        }
      ]
    },
    {
      "cell_type": "code",
      "source": [
        "decoded_data = decode(encoded_data)\n",
        "print(decoded_data)"
      ],
      "metadata": {
        "colab": {
          "base_uri": "https://localhost:8080/"
        },
        "id": "ETo6OUI3o2kP",
        "outputId": "96a8897e-c846-48ff-c182-94684e935220"
      },
      "execution_count": 26,
      "outputs": [
        {
          "output_type": "stream",
          "name": "stdout",
          "text": [
            "hello\n"
          ]
        }
      ]
    },
    {
      "cell_type": "code",
      "source": [
        "import torch"
      ],
      "metadata": {
        "id": "M4aqwaz2pY1J"
      },
      "execution_count": 27,
      "outputs": []
    },
    {
      "cell_type": "code",
      "source": [
        "data = torch.tensor(encode(text), dtype=torch.long)\n",
        "print(data)"
      ],
      "metadata": {
        "colab": {
          "base_uri": "https://localhost:8080/"
        },
        "id": "U1npcLTBpf5x",
        "outputId": "1a04099e-ae9f-402c-ac22-2bdc6e7ab7e3"
      },
      "execution_count": 29,
      "outputs": [
        {
          "output_type": "stream",
          "name": "stdout",
          "text": [
            "tensor([13, 23, 28, 28, 31,  2,  1, 16, 40,  1, 30, 19, 29, 23,  1, 27, 34,  1,\n",
            "        10, 33, 27, 24, 36, 28,  1, 14, 34, 28, 19, 29,  3,  1, 14,  1, 19, 29,\n",
            "         1, 31, 33, 27, 25, 27, 30, 19, 28, 28, 40,  1, 24, 33, 31, 29,  1, 20,\n",
            "        19, 30, 25, 28, 19, 22, 23, 34, 26,  3,  1, 14,  1, 26, 19, 37, 23,  1,\n",
            "        29, 31, 37, 23, 22,  1, 35, 31,  1, 12, 27, 30, 28, 19, 30, 22,  1, 27,\n",
            "        30,  1,  6,  4,  4,  9,  3,  1, 14,  1, 38, 19, 34,  1, 34, 35, 36, 22,\n",
            "        40, 27, 30, 25,  1, 27, 30,  1, 17, 19, 27, 29, 27, 19,  1, 36, 30, 27,\n",
            "        37, 23, 33, 34, 27, 35, 40,  1, 31, 24,  1, 19, 32, 32, 28, 27, 23, 22,\n",
            "         1, 34, 21, 27, 23, 30, 21, 23,  3,  1, 14, 35,  1, 38, 19, 34,  1, 27,\n",
            "        30,  1, 15, 19, 32, 32, 23, 23, 30, 33, 19, 30, 35, 19,  3,  1, 14,  1,\n",
            "        28, 27, 37, 23, 22,  1, 27, 30,  1, 15, 19, 32, 32, 23, 23, 30, 33, 19,\n",
            "        30, 35, 19,  1, 24, 31, 33,  1,  7,  1, 40, 23, 19, 33, 34,  3,  1, 10,\n",
            "        24, 35, 23, 33,  1, 35, 26, 19, 35,  1, 27,  1, 29, 31, 37, 23, 22,  1,\n",
            "        35, 31,  1, 11, 34, 32, 31, 31,  1, 27, 30,  1,  6,  4,  5,  7,  3,  1,\n",
            "        14,  1, 38, 19, 34,  1, 22, 33, 27, 37, 27, 30, 25,  1, 15, 19, 26, 27,\n",
            "        35, 19, 39, 27,  1, 27, 30,  1,  6,  4,  5,  7,  1, 19, 30, 22,  1,  6,\n",
            "         4,  5,  8,  3,  1, 14,  1, 25, 31, 35,  1, 19, 22, 29, 27, 35, 35, 23,\n",
            "        22,  1, 35, 31,  1, 16, 23, 35, 33, 31, 32, 31, 28, 27, 19,  1, 36, 30,\n",
            "        27, 37, 23, 33, 34, 27, 35, 40,  1, 31, 24,  1, 19, 32, 32, 28, 27, 23,\n",
            "        22,  1, 34, 21, 27, 23, 30, 21, 23,  1, 35, 31,  1, 34, 35, 36, 22, 40,\n",
            "         1, 14, 30, 24, 31, 33, 29, 19, 35, 27, 31, 30,  1, 18, 23, 21, 26, 30,\n",
            "        31, 28, 31, 25, 40,  3,  0])\n"
          ]
        }
      ]
    },
    {
      "cell_type": "code",
      "source": [
        "n = int(0.8*len(data))\n",
        "train_data = data[:n]\n",
        "val_data = data[n:]"
      ],
      "metadata": {
        "id": "hVY0F4BGtpuo"
      },
      "execution_count": 30,
      "outputs": []
    },
    {
      "cell_type": "code",
      "source": [
        "block_size = 8\n",
        "batch_size = 4\n",
        "\n",
        "x = train_data[:block_size]\n",
        "y = train_data[1:block_size+1]\n",
        "\n",
        "for t in range(block_size):\n",
        "    context = x[:t+1]\n",
        "    target = y[t]\n",
        "    print(\"when input is\", context, \"target is\", target)"
      ],
      "metadata": {
        "colab": {
          "base_uri": "https://localhost:8080/"
        },
        "id": "YAUOJkAxuSfP",
        "outputId": "d7880274-be42-463b-bec4-0cd84f24b774"
      },
      "execution_count": 33,
      "outputs": [
        {
          "output_type": "stream",
          "name": "stdout",
          "text": [
            "when input is tensor([13]) target is tensor(23)\n",
            "when input is tensor([13, 23]) target is tensor(28)\n",
            "when input is tensor([13, 23, 28]) target is tensor(28)\n",
            "when input is tensor([13, 23, 28, 28]) target is tensor(31)\n",
            "when input is tensor([13, 23, 28, 28, 31]) target is tensor(2)\n",
            "when input is tensor([13, 23, 28, 28, 31,  2]) target is tensor(1)\n",
            "when input is tensor([13, 23, 28, 28, 31,  2,  1]) target is tensor(16)\n",
            "when input is tensor([13, 23, 28, 28, 31,  2,  1, 16]) target is tensor(40)\n"
          ]
        }
      ]
    },
    {
      "cell_type": "code",
      "source": [
        "device = \"cuda\" if torch.cuda.is_available() else \"cpu\"\n",
        "print(device)"
      ],
      "metadata": {
        "colab": {
          "base_uri": "https://localhost:8080/"
        },
        "id": "9qkjmNkqxYG5",
        "outputId": "7db5303f-0ad4-4e54-8449-7a0e35c18e4f"
      },
      "execution_count": 34,
      "outputs": [
        {
          "output_type": "stream",
          "name": "stdout",
          "text": [
            "cpu\n"
          ]
        }
      ]
    },
    {
      "cell_type": "code",
      "source": [
        "randint = torch.randint(-100, 100, (6,))\n",
        "randint"
      ],
      "metadata": {
        "colab": {
          "base_uri": "https://localhost:8080/"
        },
        "id": "CG5yL1mF0VCO",
        "outputId": "5c4b2cff-ad6f-4aec-b17d-cefe2dbdb52c"
      },
      "execution_count": 35,
      "outputs": [
        {
          "output_type": "execute_result",
          "data": {
            "text/plain": [
              "tensor([ 77,   4,  38,  53,   0, -36])"
            ]
          },
          "metadata": {},
          "execution_count": 35
        }
      ]
    },
    {
      "cell_type": "code",
      "source": [
        "tensor = torch.tensor([[0.1, 1.2], [2.2, 3.1], [4.9, 5.2]])\n",
        "tensor"
      ],
      "metadata": {
        "colab": {
          "base_uri": "https://localhost:8080/"
        },
        "id": "TQYLPZe30jWN",
        "outputId": "5b648047-a31f-4dda-8e6d-f33224ddda9c"
      },
      "execution_count": 36,
      "outputs": [
        {
          "output_type": "execute_result",
          "data": {
            "text/plain": [
              "tensor([[0.1000, 1.2000],\n",
              "        [2.2000, 3.1000],\n",
              "        [4.9000, 5.2000]])"
            ]
          },
          "metadata": {},
          "execution_count": 36
        }
      ]
    },
    {
      "cell_type": "code",
      "source": [
        "zeros = torch.zeros(2, 3)\n",
        "zeros"
      ],
      "metadata": {
        "colab": {
          "base_uri": "https://localhost:8080/"
        },
        "id": "y9eMCL2S07hE",
        "outputId": "3848a1f4-cf44-4034-8277-14fea2082672"
      },
      "execution_count": 37,
      "outputs": [
        {
          "output_type": "execute_result",
          "data": {
            "text/plain": [
              "tensor([[0., 0., 0.],\n",
              "        [0., 0., 0.]])"
            ]
          },
          "metadata": {},
          "execution_count": 37
        }
      ]
    },
    {
      "cell_type": "code",
      "source": [
        "ones = torch.ones(3, 4)\n",
        "ones"
      ],
      "metadata": {
        "colab": {
          "base_uri": "https://localhost:8080/"
        },
        "id": "fGKl9TzT1HAI",
        "outputId": "bebfddcc-74a1-46c5-d578-9c4f94d742e7"
      },
      "execution_count": 38,
      "outputs": [
        {
          "output_type": "execute_result",
          "data": {
            "text/plain": [
              "tensor([[1., 1., 1., 1.],\n",
              "        [1., 1., 1., 1.],\n",
              "        [1., 1., 1., 1.]])"
            ]
          },
          "metadata": {},
          "execution_count": 38
        }
      ]
    },
    {
      "cell_type": "code",
      "source": [
        "input = torch.empty(2, 3)\n",
        "input"
      ],
      "metadata": {
        "colab": {
          "base_uri": "https://localhost:8080/"
        },
        "id": "7LfZWApm1Mpf",
        "outputId": "2009cf0b-ee6a-40e4-f0bf-b47e392def06"
      },
      "execution_count": 39,
      "outputs": [
        {
          "output_type": "execute_result",
          "data": {
            "text/plain": [
              "tensor([[3.0401e+06, 4.4163e-41, 3.0401e+06],\n",
              "        [4.4163e-41, 4.4842e-44, 0.0000e+00]])"
            ]
          },
          "metadata": {},
          "execution_count": 39
        }
      ]
    },
    {
      "cell_type": "code",
      "source": [
        "arange = torch.arange(5)\n",
        "arange"
      ],
      "metadata": {
        "colab": {
          "base_uri": "https://localhost:8080/"
        },
        "id": "F-zIm8RC1b4N",
        "outputId": "e291866b-325b-45d7-f0d5-45d63adff6f2"
      },
      "execution_count": 41,
      "outputs": [
        {
          "output_type": "execute_result",
          "data": {
            "text/plain": [
              "tensor([0, 1, 2, 3, 4])"
            ]
          },
          "metadata": {},
          "execution_count": 41
        }
      ]
    },
    {
      "cell_type": "code",
      "source": [
        "linspace = torch.linspace(3, 10, steps=5)\n",
        "linspace"
      ],
      "metadata": {
        "colab": {
          "base_uri": "https://localhost:8080/"
        },
        "id": "grx5FXNN1xCL",
        "outputId": "fb15a1ad-16ec-4fed-c4eb-5bcdc4c754b1"
      },
      "execution_count": 42,
      "outputs": [
        {
          "output_type": "execute_result",
          "data": {
            "text/plain": [
              "tensor([ 3.0000,  4.7500,  6.5000,  8.2500, 10.0000])"
            ]
          },
          "metadata": {},
          "execution_count": 42
        }
      ]
    },
    {
      "cell_type": "code",
      "source": [
        "logspace = torch.logspace(start=-10, end=10, steps=5)\n",
        "logspace"
      ],
      "metadata": {
        "colab": {
          "base_uri": "https://localhost:8080/"
        },
        "id": "6i4YNLCs18uR",
        "outputId": "0ac78660-5116-47f6-f388-f97afaed72c9"
      },
      "execution_count": 43,
      "outputs": [
        {
          "output_type": "execute_result",
          "data": {
            "text/plain": [
              "tensor([1.0000e-10, 1.0000e-05, 1.0000e+00, 1.0000e+05, 1.0000e+10])"
            ]
          },
          "metadata": {},
          "execution_count": 43
        }
      ]
    }
  ]
}