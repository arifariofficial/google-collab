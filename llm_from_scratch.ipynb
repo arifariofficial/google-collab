{
  "nbformat": 4,
  "nbformat_minor": 0,
  "metadata": {
    "colab": {
      "provenance": [],
      "gpuType": "T4",
      "mount_file_id": "1CHhBZsWD82QvI-e-RtSA9K7sxaBILOyV",
      "authorship_tag": "ABX9TyNJCD0Ci3BhuCm1CzYKkrZo",
      "include_colab_link": true
    },
    "kernelspec": {
      "name": "python3",
      "display_name": "Python 3"
    },
    "language_info": {
      "name": "python"
    },
    "accelerator": "GPU"
  },
  "cells": [
    {
      "cell_type": "markdown",
      "metadata": {
        "id": "view-in-github",
        "colab_type": "text"
      },
      "source": [
        "<a href=\"https://colab.research.google.com/github/arifariofficial/google-collab/blob/main/llm_from_scratch.ipynb\" target=\"_parent\"><img src=\"https://colab.research.google.com/assets/colab-badge.svg\" alt=\"Open In Colab\"/></a>"
      ]
    },
    {
      "cell_type": "code",
      "source": [
        "with open(\"/content/drive/MyDrive/Colab Notebooks/train.txt\", \"r\", encoding=\"utf-8\") as f:\n",
        "    text = f.read()"
      ],
      "metadata": {
        "id": "-vXSWahDSp6K"
      },
      "execution_count": 2,
      "outputs": []
    },
    {
      "cell_type": "code",
      "source": [
        "print(text)"
      ],
      "metadata": {
        "colab": {
          "base_uri": "https://localhost:8080/"
        },
        "id": "Cem1ta1SVzDR",
        "outputId": "d807b55c-8d6d-4ce0-d22f-659be132a87a"
      },
      "execution_count": 3,
      "outputs": [
        {
          "output_type": "stream",
          "name": "stdout",
          "text": [
            "Hello, My name is Ariful Islam. I am originally from bangladesh. I have moved to Finland in 2009. I was studying in Saimia university of applied science. It was in Lappeenranta. I lived in Lappeenranta for 7 years. After that i moved to Espoo in 2017. I was driving Lahitaxi in 2017 and 2018. I got admitted to Metropolia university of applied science to study Information Technology.\n",
            "\n"
          ]
        }
      ]
    },
    {
      "cell_type": "code",
      "source": [
        "chars = sorted(set(text))\n",
        "print(chars)\n",
        "print(len(chars))"
      ],
      "metadata": {
        "colab": {
          "base_uri": "https://localhost:8080/"
        },
        "id": "Crt2PqAnb38z",
        "outputId": "5c7212bd-170d-4119-d09c-cfd6974ef8ba"
      },
      "execution_count": 4,
      "outputs": [
        {
          "output_type": "stream",
          "name": "stdout",
          "text": [
            "['\\n', ' ', ',', '.', '0', '1', '2', '7', '8', '9', 'A', 'E', 'F', 'H', 'I', 'L', 'M', 'S', 'T', 'a', 'b', 'c', 'd', 'e', 'f', 'g', 'h', 'i', 'l', 'm', 'n', 'o', 'p', 'r', 's', 't', 'u', 'v', 'w', 'x', 'y']\n",
            "41\n"
          ]
        }
      ]
    },
    {
      "cell_type": "code",
      "source": [
        "string_to_int = { ch:i for i, ch in enumerate(chars)}\n",
        "int_to_string = { i:ch for i, ch in enumerate(chars)}\n",
        "encode = lambda s: [string_to_int[c] for c in s]\n",
        "decode = lambda l: ''.join([int_to_string[i] for i in l])\n",
        "encoded_data = encode(\"hello\")\n",
        "print(encoded_data)"
      ],
      "metadata": {
        "colab": {
          "base_uri": "https://localhost:8080/"
        },
        "id": "SZsFu0h2gLrt",
        "outputId": "c604039d-2c1e-426b-f146-1a66e320a602"
      },
      "execution_count": 5,
      "outputs": [
        {
          "output_type": "stream",
          "name": "stdout",
          "text": [
            "[26, 23, 28, 28, 31]\n"
          ]
        }
      ]
    },
    {
      "cell_type": "code",
      "source": [
        "decoded_data = decode(encoded_data)\n",
        "print(decoded_data)"
      ],
      "metadata": {
        "colab": {
          "base_uri": "https://localhost:8080/"
        },
        "id": "ETo6OUI3o2kP",
        "outputId": "2ff7ba12-065c-4f42-cf3c-74ad38781659"
      },
      "execution_count": 6,
      "outputs": [
        {
          "output_type": "stream",
          "name": "stdout",
          "text": [
            "hello\n"
          ]
        }
      ]
    },
    {
      "cell_type": "code",
      "source": [
        "import torch"
      ],
      "metadata": {
        "id": "M4aqwaz2pY1J"
      },
      "execution_count": 7,
      "outputs": []
    },
    {
      "cell_type": "code",
      "source": [
        "data = torch.tensor(encode(text), dtype=torch.long)\n",
        "print(data)"
      ],
      "metadata": {
        "colab": {
          "base_uri": "https://localhost:8080/"
        },
        "id": "U1npcLTBpf5x",
        "outputId": "59c48623-0fed-4641-84f4-ad2b3f4ae706"
      },
      "execution_count": 8,
      "outputs": [
        {
          "output_type": "stream",
          "name": "stdout",
          "text": [
            "tensor([13, 23, 28, 28, 31,  2,  1, 16, 40,  1, 30, 19, 29, 23,  1, 27, 34,  1,\n",
            "        10, 33, 27, 24, 36, 28,  1, 14, 34, 28, 19, 29,  3,  1, 14,  1, 19, 29,\n",
            "         1, 31, 33, 27, 25, 27, 30, 19, 28, 28, 40,  1, 24, 33, 31, 29,  1, 20,\n",
            "        19, 30, 25, 28, 19, 22, 23, 34, 26,  3,  1, 14,  1, 26, 19, 37, 23,  1,\n",
            "        29, 31, 37, 23, 22,  1, 35, 31,  1, 12, 27, 30, 28, 19, 30, 22,  1, 27,\n",
            "        30,  1,  6,  4,  4,  9,  3,  1, 14,  1, 38, 19, 34,  1, 34, 35, 36, 22,\n",
            "        40, 27, 30, 25,  1, 27, 30,  1, 17, 19, 27, 29, 27, 19,  1, 36, 30, 27,\n",
            "        37, 23, 33, 34, 27, 35, 40,  1, 31, 24,  1, 19, 32, 32, 28, 27, 23, 22,\n",
            "         1, 34, 21, 27, 23, 30, 21, 23,  3,  1, 14, 35,  1, 38, 19, 34,  1, 27,\n",
            "        30,  1, 15, 19, 32, 32, 23, 23, 30, 33, 19, 30, 35, 19,  3,  1, 14,  1,\n",
            "        28, 27, 37, 23, 22,  1, 27, 30,  1, 15, 19, 32, 32, 23, 23, 30, 33, 19,\n",
            "        30, 35, 19,  1, 24, 31, 33,  1,  7,  1, 40, 23, 19, 33, 34,  3,  1, 10,\n",
            "        24, 35, 23, 33,  1, 35, 26, 19, 35,  1, 27,  1, 29, 31, 37, 23, 22,  1,\n",
            "        35, 31,  1, 11, 34, 32, 31, 31,  1, 27, 30,  1,  6,  4,  5,  7,  3,  1,\n",
            "        14,  1, 38, 19, 34,  1, 22, 33, 27, 37, 27, 30, 25,  1, 15, 19, 26, 27,\n",
            "        35, 19, 39, 27,  1, 27, 30,  1,  6,  4,  5,  7,  1, 19, 30, 22,  1,  6,\n",
            "         4,  5,  8,  3,  1, 14,  1, 25, 31, 35,  1, 19, 22, 29, 27, 35, 35, 23,\n",
            "        22,  1, 35, 31,  1, 16, 23, 35, 33, 31, 32, 31, 28, 27, 19,  1, 36, 30,\n",
            "        27, 37, 23, 33, 34, 27, 35, 40,  1, 31, 24,  1, 19, 32, 32, 28, 27, 23,\n",
            "        22,  1, 34, 21, 27, 23, 30, 21, 23,  1, 35, 31,  1, 34, 35, 36, 22, 40,\n",
            "         1, 14, 30, 24, 31, 33, 29, 19, 35, 27, 31, 30,  1, 18, 23, 21, 26, 30,\n",
            "        31, 28, 31, 25, 40,  3,  0])\n"
          ]
        }
      ]
    },
    {
      "cell_type": "code",
      "source": [
        "n = int(0.8*len(data))\n",
        "train_data = data[:n]\n",
        "val_data = data[n:]"
      ],
      "metadata": {
        "id": "hVY0F4BGtpuo"
      },
      "execution_count": 9,
      "outputs": []
    },
    {
      "cell_type": "code",
      "source": [
        "block_size = 8\n",
        "batch_size = 4\n",
        "\n",
        "x = train_data[:block_size]\n",
        "y = train_data[1:block_size+1]\n",
        "\n",
        "for t in range(block_size):\n",
        "    context = x[:t+1]\n",
        "    target = y[t]\n",
        "    print(\"when input is\", context, \"target is\", target)"
      ],
      "metadata": {
        "colab": {
          "base_uri": "https://localhost:8080/"
        },
        "id": "YAUOJkAxuSfP",
        "outputId": "1d4dce69-9944-46d2-b8b0-342e36d6d91c"
      },
      "execution_count": 10,
      "outputs": [
        {
          "output_type": "stream",
          "name": "stdout",
          "text": [
            "when input is tensor([13]) target is tensor(23)\n",
            "when input is tensor([13, 23]) target is tensor(28)\n",
            "when input is tensor([13, 23, 28]) target is tensor(28)\n",
            "when input is tensor([13, 23, 28, 28]) target is tensor(31)\n",
            "when input is tensor([13, 23, 28, 28, 31]) target is tensor(2)\n",
            "when input is tensor([13, 23, 28, 28, 31,  2]) target is tensor(1)\n",
            "when input is tensor([13, 23, 28, 28, 31,  2,  1]) target is tensor(16)\n",
            "when input is tensor([13, 23, 28, 28, 31,  2,  1, 16]) target is tensor(40)\n"
          ]
        }
      ]
    },
    {
      "cell_type": "code",
      "source": [
        "device = \"cuda\" if torch.cuda.is_available() else \"cpu\"\n",
        "print(device)"
      ],
      "metadata": {
        "colab": {
          "base_uri": "https://localhost:8080/"
        },
        "id": "9qkjmNkqxYG5",
        "outputId": "f47a8a26-b751-4682-8db0-a3cabc996f2f"
      },
      "execution_count": 11,
      "outputs": [
        {
          "output_type": "stream",
          "name": "stdout",
          "text": [
            "cuda\n"
          ]
        }
      ]
    },
    {
      "cell_type": "code",
      "source": [
        "randint = torch.randint(-100, 100, (6,))\n",
        "randint"
      ],
      "metadata": {
        "colab": {
          "base_uri": "https://localhost:8080/"
        },
        "id": "CG5yL1mF0VCO",
        "outputId": "190644f6-1c9b-46d3-bcb4-0ba969542ec5"
      },
      "execution_count": 12,
      "outputs": [
        {
          "output_type": "execute_result",
          "data": {
            "text/plain": [
              "tensor([-39, -54, -99,  92,  95,  56])"
            ]
          },
          "metadata": {},
          "execution_count": 12
        }
      ]
    },
    {
      "cell_type": "code",
      "source": [
        "tensor = torch.tensor([[0.1, 1.2], [2.2, 3.1], [4.9, 5.2]])\n",
        "tensor"
      ],
      "metadata": {
        "colab": {
          "base_uri": "https://localhost:8080/"
        },
        "id": "TQYLPZe30jWN",
        "outputId": "794ac741-4e09-4d28-c94a-91e4d902a687"
      },
      "execution_count": 13,
      "outputs": [
        {
          "output_type": "execute_result",
          "data": {
            "text/plain": [
              "tensor([[0.1000, 1.2000],\n",
              "        [2.2000, 3.1000],\n",
              "        [4.9000, 5.2000]])"
            ]
          },
          "metadata": {},
          "execution_count": 13
        }
      ]
    },
    {
      "cell_type": "code",
      "source": [
        "zeros = torch.zeros(2, 3)\n",
        "zeros"
      ],
      "metadata": {
        "colab": {
          "base_uri": "https://localhost:8080/"
        },
        "id": "y9eMCL2S07hE",
        "outputId": "d9022430-3a5a-41fb-b179-47c0ab070d41"
      },
      "execution_count": 14,
      "outputs": [
        {
          "output_type": "execute_result",
          "data": {
            "text/plain": [
              "tensor([[0., 0., 0.],\n",
              "        [0., 0., 0.]])"
            ]
          },
          "metadata": {},
          "execution_count": 14
        }
      ]
    },
    {
      "cell_type": "code",
      "source": [
        "ones = torch.ones(3, 4)\n",
        "ones"
      ],
      "metadata": {
        "colab": {
          "base_uri": "https://localhost:8080/"
        },
        "id": "fGKl9TzT1HAI",
        "outputId": "4b82e761-bab1-43d8-c06d-d0174e6359ac"
      },
      "execution_count": 15,
      "outputs": [
        {
          "output_type": "execute_result",
          "data": {
            "text/plain": [
              "tensor([[1., 1., 1., 1.],\n",
              "        [1., 1., 1., 1.],\n",
              "        [1., 1., 1., 1.]])"
            ]
          },
          "metadata": {},
          "execution_count": 15
        }
      ]
    },
    {
      "cell_type": "code",
      "source": [
        "input = torch.empty(2, 3)\n",
        "input"
      ],
      "metadata": {
        "colab": {
          "base_uri": "https://localhost:8080/"
        },
        "id": "7LfZWApm1Mpf",
        "outputId": "5b3ce503-453f-4dd5-c16f-519ceaad2ea2"
      },
      "execution_count": 16,
      "outputs": [
        {
          "output_type": "execute_result",
          "data": {
            "text/plain": [
              "tensor([[0., 0., 0.],\n",
              "        [0., 0., 0.]])"
            ]
          },
          "metadata": {},
          "execution_count": 16
        }
      ]
    },
    {
      "cell_type": "code",
      "source": [
        "arange = torch.arange(5)\n",
        "arange"
      ],
      "metadata": {
        "colab": {
          "base_uri": "https://localhost:8080/"
        },
        "id": "F-zIm8RC1b4N",
        "outputId": "75af394e-29a5-4d53-e510-7dcf9ca567f9"
      },
      "execution_count": 17,
      "outputs": [
        {
          "output_type": "execute_result",
          "data": {
            "text/plain": [
              "tensor([0, 1, 2, 3, 4])"
            ]
          },
          "metadata": {},
          "execution_count": 17
        }
      ]
    },
    {
      "cell_type": "code",
      "source": [
        "linspace = torch.linspace(3, 10, steps=5)\n",
        "linspace"
      ],
      "metadata": {
        "colab": {
          "base_uri": "https://localhost:8080/"
        },
        "id": "grx5FXNN1xCL",
        "outputId": "0cc0bdc7-6582-4430-c702-5d76df53cfa5"
      },
      "execution_count": 18,
      "outputs": [
        {
          "output_type": "execute_result",
          "data": {
            "text/plain": [
              "tensor([ 3.0000,  4.7500,  6.5000,  8.2500, 10.0000])"
            ]
          },
          "metadata": {},
          "execution_count": 18
        }
      ]
    },
    {
      "cell_type": "code",
      "source": [
        "logspace = torch.logspace(start=-10, end=10, steps=5)\n",
        "logspace"
      ],
      "metadata": {
        "colab": {
          "base_uri": "https://localhost:8080/"
        },
        "id": "6i4YNLCs18uR",
        "outputId": "ea87e74a-5702-4427-fc0b-8197148f8ae0"
      },
      "execution_count": 19,
      "outputs": [
        {
          "output_type": "execute_result",
          "data": {
            "text/plain": [
              "tensor([1.0000e-10, 1.0000e-05, 1.0000e+00, 1.0000e+05, 1.0000e+10])"
            ]
          },
          "metadata": {},
          "execution_count": 19
        }
      ]
    },
    {
      "cell_type": "code",
      "source": [
        "eye = torch.eye(5)\n",
        "eye"
      ],
      "metadata": {
        "colab": {
          "base_uri": "https://localhost:8080/"
        },
        "id": "eIcFtYktmU9O",
        "outputId": "f1081ab3-407c-4935-9089-928edf5e2176"
      },
      "execution_count": 20,
      "outputs": [
        {
          "output_type": "execute_result",
          "data": {
            "text/plain": [
              "tensor([[1., 0., 0., 0., 0.],\n",
              "        [0., 1., 0., 0., 0.],\n",
              "        [0., 0., 1., 0., 0.],\n",
              "        [0., 0., 0., 1., 0.],\n",
              "        [0., 0., 0., 0., 1.]])"
            ]
          },
          "metadata": {},
          "execution_count": 20
        }
      ]
    },
    {
      "cell_type": "code",
      "source": [
        "a = torch.empty((2, 3), dtype=torch.int64)\n",
        "empty_like = torch.empty_like(a)\n",
        "empty_like"
      ],
      "metadata": {
        "colab": {
          "base_uri": "https://localhost:8080/"
        },
        "id": "yblg9CR6me2O",
        "outputId": "0694ad55-fe34-4ed8-bad9-558d6be31a71"
      },
      "execution_count": 21,
      "outputs": [
        {
          "output_type": "execute_result",
          "data": {
            "text/plain": [
              "tensor([[        149624944,   136146860616928, 72340172838076673],\n",
              "        [                1,   136146860616928,   136146860616928]])"
            ]
          },
          "metadata": {},
          "execution_count": 21
        }
      ]
    },
    {
      "cell_type": "code",
      "source": [
        "import torch\n",
        "import numpy as np\n",
        "import time\n",
        "device = \"cuda\" if torch.cuda.is_available() else \"cpu\"\n",
        "print(device)"
      ],
      "metadata": {
        "colab": {
          "base_uri": "https://localhost:8080/"
        },
        "id": "NhpZOja8xpWm",
        "outputId": "07cd94c1-f058-456a-9c7e-41fb6b54dc36"
      },
      "execution_count": 23,
      "outputs": [
        {
          "output_type": "stream",
          "name": "stdout",
          "text": [
            "cuda\n"
          ]
        }
      ]
    },
    {
      "cell_type": "code",
      "source": [
        "%%time\n",
        "start_time = time.time()\n",
        "# matrix operations here\n",
        "zeros = torch.zeros(1, 1)\n",
        "end_time = time.time()\n",
        "\n",
        "elapsed_time = end_time - start_time\n",
        "print(f\"{elapsed_time:.8f}\")"
      ],
      "metadata": {
        "colab": {
          "base_uri": "https://localhost:8080/"
        },
        "id": "13zHfz32yPzE",
        "outputId": "58155d87-f639-4c67-f669-3c44a0e3cfd2"
      },
      "execution_count": 26,
      "outputs": [
        {
          "output_type": "stream",
          "name": "stdout",
          "text": [
            "0.00006914\n",
            "CPU times: user 175 µs, sys: 0 ns, total: 175 µs\n",
            "Wall time: 180 µs\n"
          ]
        }
      ]
    },
    {
      "cell_type": "code",
      "source": [
        "%%time\n",
        "torch_rand1 = torch.rand(100, 100, 100, 100).to(device)\n",
        "torch_rand2 = torch.rand(100, 100, 100, 100).to(device)\n",
        "np_rand1 = torch.rand(100, 100, 100, 100)\n",
        "np_rand2 = torch.rand(100, 100, 100, 100)\n",
        "\n",
        "start_time = time.time()\n",
        "rand = (torch_rand1 @ torch_rand2)\n",
        "end_time = time.time()\n",
        "\n",
        "elapsed_time = end_time - start_time\n",
        "print(f\"Torch: {elapsed_time:.8f}\")\n",
        "\n",
        "start_time = time.time()\n",
        "rand = np.multiply(np_rand1, np_rand2)\n",
        "end_time = time.time()\n",
        "\n",
        "elapsed_time = end_time - start_time\n",
        "print(f\"Numpy: {elapsed_time:.8f}\")"
      ],
      "metadata": {
        "colab": {
          "base_uri": "https://localhost:8080/"
        },
        "id": "UNMfoLJx4tZi",
        "outputId": "16a605fc-22ac-4635-eb07-aeabd4381a91"
      },
      "execution_count": 32,
      "outputs": [
        {
          "output_type": "stream",
          "name": "stdout",
          "text": [
            "Torch: 0.00027847\n",
            "Numpy: 0.15646291\n",
            "CPU times: user 3.63 s, sys: 1.02 s, total: 4.65 s\n",
            "Wall time: 4.67 s\n"
          ]
        }
      ]
    }
  ]
}