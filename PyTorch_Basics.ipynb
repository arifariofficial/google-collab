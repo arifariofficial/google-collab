{
  "nbformat": 4,
  "nbformat_minor": 0,
  "metadata": {
    "colab": {
      "provenance": [],
      "gpuType": "T4",
      "mount_file_id": "1KhHkKPvGBd78y1A8r61bXoDq6EinXlIM",
      "authorship_tag": "ABX9TyM86bVC6TweUCOnh2JnYZsO",
      "include_colab_link": true
    },
    "kernelspec": {
      "name": "python3",
      "display_name": "Python 3"
    },
    "language_info": {
      "name": "python"
    },
    "accelerator": "GPU"
  },
  "cells": [
    {
      "cell_type": "markdown",
      "metadata": {
        "id": "view-in-github",
        "colab_type": "text"
      },
      "source": [
        "<a href=\"https://colab.research.google.com/github/arifariofficial/google-collab/blob/main/PyTorch_Basics.ipynb\" target=\"_parent\"><img src=\"https://colab.research.google.com/assets/colab-badge.svg\" alt=\"Open In Colab\"/></a>"
      ]
    },
    {
      "cell_type": "code",
      "source": [
        "import torch\n",
        "print(\"PyTorch version:\", torch.__version__)\n",
        "print(\"Is CUDA available?\", torch.cuda.is_available())\n"
      ],
      "metadata": {
        "colab": {
          "base_uri": "https://localhost:8080/"
        },
        "id": "ssKGkU2OmEl7",
        "outputId": "4cc8ea72-bcd2-4fa9-ed08-386d012b2c24"
      },
      "execution_count": 1,
      "outputs": [
        {
          "output_type": "stream",
          "name": "stdout",
          "text": [
            "PyTorch version: 2.5.1+cu121\n",
            "Is CUDA available? True\n"
          ]
        }
      ]
    },
    {
      "cell_type": "markdown",
      "source": [
        "### Create Your First Tensor"
      ],
      "metadata": {
        "id": "29gd013IpeE7"
      }
    },
    {
      "cell_type": "code",
      "source": [
        "# Import PyTorch\n",
        "import torch\n",
        "\n",
        "# Create a tensor\n",
        "tensor = torch.tensor([1, 2, 3, 4, 5])\n",
        "\n",
        "# Print the tensor and its type\n",
        "print(\"Tensor:\", tensor)\n",
        "print(\"Type:\", tensor.dtype)\n",
        "print(\"Device:\", tensor.device)\n"
      ],
      "metadata": {
        "colab": {
          "base_uri": "https://localhost:8080/"
        },
        "id": "j2rfmn5imikE",
        "outputId": "fb6e576f-09e1-4242-ef06-f5b88508b2ab"
      },
      "execution_count": 2,
      "outputs": [
        {
          "output_type": "stream",
          "name": "stdout",
          "text": [
            "Tensor: tensor([1, 2, 3, 4, 5])\n",
            "Type: torch.int64\n",
            "Device: cpu\n"
          ]
        }
      ]
    },
    {
      "cell_type": "markdown",
      "source": [
        "###  Basic Tensor Operations"
      ],
      "metadata": {
        "id": "jubQeDAXpnoX"
      }
    },
    {
      "cell_type": "markdown",
      "source": [
        "#### Creating Tensors with Specific Data Types"
      ],
      "metadata": {
        "id": "AdPqwnSCpqSV"
      }
    },
    {
      "cell_type": "code",
      "source": [
        "# Create a tensor with float data type\n",
        "float_tensor = torch.tensor([1, 2, 3, 4, 5], dtype=torch.float32)\n",
        "print(\"Float Tensor:\", float_tensor)\n"
      ],
      "metadata": {
        "colab": {
          "base_uri": "https://localhost:8080/"
        },
        "id": "-JkqTwpmm7zF",
        "outputId": "0e19d74f-87ab-4821-d666-e8c2c2d7e51d"
      },
      "execution_count": 3,
      "outputs": [
        {
          "output_type": "stream",
          "name": "stdout",
          "text": [
            "Float Tensor: tensor([1., 2., 3., 4., 5.])\n"
          ]
        }
      ]
    },
    {
      "cell_type": "markdown",
      "source": [
        "#### Performing Basic Math Operations"
      ],
      "metadata": {
        "id": "6MyJ9uZ7px9F"
      }
    },
    {
      "cell_type": "code",
      "source": [
        "# Basic math operations\n",
        "tensor = torch.tensor([1, 2, 3, 4, 5], dtype=torch.float32)\n",
        "\n",
        "print(\"Tensor + 10:\", tensor + 10)\n",
        "print(\"Tensor * 2:\", tensor * 2)\n",
        "print(\"Sum of Tensor:\", torch.sum(tensor))\n"
      ],
      "metadata": {
        "colab": {
          "base_uri": "https://localhost:8080/"
        },
        "id": "VFGSLOhMnMN5",
        "outputId": "b134cf94-5847-4334-b88c-de2ad86df610"
      },
      "execution_count": 4,
      "outputs": [
        {
          "output_type": "stream",
          "name": "stdout",
          "text": [
            "Tensor + 10: tensor([11., 12., 13., 14., 15.])\n",
            "Tensor * 2: tensor([ 2.,  4.,  6.,  8., 10.])\n",
            "Sum of Tensor: tensor(15.)\n"
          ]
        }
      ]
    },
    {
      "cell_type": "markdown",
      "source": [
        "#### Moving a Tensor to the GPU (Optional)"
      ],
      "metadata": {
        "id": "AeRWzmGdp4CN"
      }
    },
    {
      "cell_type": "code",
      "source": [
        "# Move tensor to GPU\n",
        "gpu_tensor = tensor.to(\"cuda\")\n",
        "print(\"Device of GPU Tensor:\", gpu_tensor.device)\n"
      ],
      "metadata": {
        "colab": {
          "base_uri": "https://localhost:8080/"
        },
        "id": "F4seOkbTnd0f",
        "outputId": "60ae6b25-bff2-4e2e-a7af-b8291ca2bca0"
      },
      "execution_count": 5,
      "outputs": [
        {
          "output_type": "stream",
          "name": "stdout",
          "text": [
            "Device of GPU Tensor: cuda:0\n"
          ]
        }
      ]
    },
    {
      "cell_type": "markdown",
      "source": [
        "### Tensor Reshaping and Indexing"
      ],
      "metadata": {
        "id": "-JyRkYmoooBh"
      }
    },
    {
      "cell_type": "markdown",
      "source": [
        "#### Reshaping Tensors"
      ],
      "metadata": {
        "id": "MeYbAXZCoxA9"
      }
    },
    {
      "cell_type": "code",
      "source": [
        "# Create a tensor with 12 elements\n",
        "tensor = torch.tensor([1, 2, 3, 4, 5, 6, 7, 8, 9, 10, 11, 12])\n",
        "\n",
        "# Reshape to a 3x4 tensor\n",
        "reshaped_tensor = tensor.reshape(3, 4)\n",
        "print(\"Reshaped Tensor (3x4):\\n\", reshaped_tensor)\n"
      ],
      "metadata": {
        "colab": {
          "base_uri": "https://localhost:8080/"
        },
        "id": "MIkfL50rnuBd",
        "outputId": "35f1cdc2-6636-4623-a379-2e2e78beb3b4"
      },
      "execution_count": 12,
      "outputs": [
        {
          "output_type": "stream",
          "name": "stdout",
          "text": [
            "Reshaped Tensor (3x4):\n",
            " tensor([[ 1,  2,  3,  4],\n",
            "        [ 5,  6,  7,  8],\n",
            "        [ 9, 10, 11, 12]])\n"
          ]
        }
      ]
    },
    {
      "cell_type": "markdown",
      "source": [
        "#### Accessing Specific Elements (Indexing)"
      ],
      "metadata": {
        "id": "dbjuxZXgpA22"
      }
    },
    {
      "cell_type": "code",
      "source": [
        "# Access specific elements\n",
        "print(\"First Row:\", reshaped_tensor[0])       # First row\n",
        "print(\"First Column:\", reshaped_tensor[:, 0]) # First column\n",
        "print(\"Element at [1, 2]:\", reshaped_tensor[1, 2]) # Element at row 1, column 2\n"
      ],
      "metadata": {
        "colab": {
          "base_uri": "https://localhost:8080/"
        },
        "id": "GFRJFTwsn1yx",
        "outputId": "76dd26f3-11ba-4710-ddf9-1d83c994bfc0"
      },
      "execution_count": 13,
      "outputs": [
        {
          "output_type": "stream",
          "name": "stdout",
          "text": [
            "First Row: tensor([1, 2, 3, 4])\n",
            "First Column: tensor([1, 5, 9])\n",
            "Element at [1, 2]: tensor(7)\n"
          ]
        }
      ]
    },
    {
      "cell_type": "markdown",
      "source": [
        "#### Slicing"
      ],
      "metadata": {
        "id": "rxE_8H8YpQn2"
      }
    },
    {
      "cell_type": "code",
      "source": [
        "# Extract a 2x2 block\n",
        "sub_tensor = reshaped_tensor[0:2, 1:3]\n",
        "print(\"Sub Tensor (2x2):\\n\", sub_tensor)\n"
      ],
      "metadata": {
        "colab": {
          "base_uri": "https://localhost:8080/"
        },
        "id": "ZQZEO4KsoRpL",
        "outputId": "36169a23-381f-4fcd-b23e-1f49a56900a6"
      },
      "execution_count": 14,
      "outputs": [
        {
          "output_type": "stream",
          "name": "stdout",
          "text": [
            "Sub Tensor (2x2):\n",
            " tensor([[2, 3],\n",
            "        [6, 7]])\n"
          ]
        }
      ]
    },
    {
      "cell_type": "markdown",
      "source": [
        "### Matrix Operations and Element-Wise Computations"
      ],
      "metadata": {
        "id": "l_-6dgHip_Le"
      }
    },
    {
      "cell_type": "markdown",
      "source": [
        "#### Matrix Multiplication (Dot Product)\n",
        "Matrix multiplication is fundamental in machine learning, especially for layers in a neural network."
      ],
      "metadata": {
        "id": "xXTcttzBqHKK"
      }
    },
    {
      "cell_type": "code",
      "source": [
        "# Create two tensors\n",
        "tensor_a = torch.tensor([[1, 2], [3, 4]])\n",
        "tensor_b = torch.tensor([[5, 6], [7, 8]])\n",
        "\n",
        "# Perform matrix multiplication\n",
        "matmul_result = torch.matmul(tensor_a, tensor_b)\n",
        "print(\"Matrix Multiplication Result:\\n\", matmul_result)\n"
      ],
      "metadata": {
        "colab": {
          "base_uri": "https://localhost:8080/"
        },
        "id": "NoEJ5mw_qNVi",
        "outputId": "1f971a3e-6876-433b-cf4d-ab9f57b68e1f"
      },
      "execution_count": 15,
      "outputs": [
        {
          "output_type": "stream",
          "name": "stdout",
          "text": [
            "Matrix Multiplication Result:\n",
            " tensor([[19, 22],\n",
            "        [43, 50]])\n"
          ]
        }
      ]
    },
    {
      "cell_type": "markdown",
      "source": [
        "#### Element-Wise Multiplication"
      ],
      "metadata": {
        "id": "fhWKD4EYqZb5"
      }
    },
    {
      "cell_type": "code",
      "source": [
        "# Element-wise multiplication\n",
        "elementwise_result = tensor_a * tensor_b\n",
        "print(\"Element-Wise Multiplication Result:\\n\", elementwise_result)\n"
      ],
      "metadata": {
        "colab": {
          "base_uri": "https://localhost:8080/"
        },
        "id": "u5iy7ldGqbEe",
        "outputId": "87907a65-4a74-4429-fae4-60c38f72b017"
      },
      "execution_count": 16,
      "outputs": [
        {
          "output_type": "stream",
          "name": "stdout",
          "text": [
            "Element-Wise Multiplication Result:\n",
            " tensor([[ 5, 12],\n",
            "        [21, 32]])\n"
          ]
        }
      ]
    },
    {
      "cell_type": "markdown",
      "source": [
        "#### Tensor Aggregation"
      ],
      "metadata": {
        "id": "bVaDw_iFqwQW"
      }
    },
    {
      "cell_type": "code",
      "source": [
        "# Aggregation operations\n",
        "print(\"Sum of Tensor A:\", torch.sum(tensor_a))\n",
        "print(\"Mean of Tensor A:\", torch.mean(tensor_a.float()))  # Cast to float for mean\n",
        "print(\"Max Value in Tensor A:\", torch.max(tensor_a))\n"
      ],
      "metadata": {
        "colab": {
          "base_uri": "https://localhost:8080/"
        },
        "id": "RgHSP261qx9i",
        "outputId": "99437921-b47f-4e50-a917-25284cee8698"
      },
      "execution_count": 17,
      "outputs": [
        {
          "output_type": "stream",
          "name": "stdout",
          "text": [
            "Sum of Tensor A: tensor(10)\n",
            "Mean of Tensor A: tensor(2.5000)\n",
            "Max Value in Tensor A: tensor(4)\n"
          ]
        }
      ]
    },
    {
      "cell_type": "markdown",
      "source": [
        "#### Tensor Transposition\n",
        "Transpose a matrix to flip its rows and columns"
      ],
      "metadata": {
        "id": "yot1NzlPq-vB"
      }
    },
    {
      "cell_type": "code",
      "source": [
        "# Transpose tensor_a\n",
        "transposed = tensor_a.T\n",
        "print(\"Transposed Tensor A:\\n\", transposed)\n"
      ],
      "metadata": {
        "colab": {
          "base_uri": "https://localhost:8080/"
        },
        "id": "CtLhZp4_rAnc",
        "outputId": "bcf82dc7-1b8a-46c7-f54f-e668d1ea1c69"
      },
      "execution_count": 18,
      "outputs": [
        {
          "output_type": "stream",
          "name": "stdout",
          "text": [
            "Transposed Tensor A:\n",
            " tensor([[1, 3],\n",
            "        [2, 4]])\n"
          ]
        }
      ]
    },
    {
      "cell_type": "markdown",
      "source": [
        "### Create a Simple Neural Network"
      ],
      "metadata": {
        "id": "qH8mmyDZrmry"
      }
    },
    {
      "cell_type": "markdown",
      "source": [
        "####  Import Necessary Modules"
      ],
      "metadata": {
        "id": "G-wx5Nn9rpbF"
      }
    },
    {
      "cell_type": "code",
      "source": [
        "import torch\n",
        "import torch.nn as nn\n",
        "import torch.optim as optim\n"
      ],
      "metadata": {
        "id": "-BshWKYLrrUw"
      },
      "execution_count": 19,
      "outputs": []
    },
    {
      "cell_type": "markdown",
      "source": [
        "#### Define a Dataset"
      ],
      "metadata": {
        "id": "kOZ3hOkJrv4f"
      }
    },
    {
      "cell_type": "code",
      "source": [
        "# Input (X) and Output (Y)\n",
        "X = torch.tensor([[1.0], [2.0], [3.0], [4.0]])\n",
        "Y = torch.tensor([[2.0], [4.0], [6.0], [8.0]])\n"
      ],
      "metadata": {
        "id": "V2wEDAbXrxx6"
      },
      "execution_count": 20,
      "outputs": []
    },
    {
      "cell_type": "markdown",
      "source": [
        "#### Define the Model\n",
        "A simple model with one input and one output:"
      ],
      "metadata": {
        "id": "y5W3bfsZr22D"
      }
    },
    {
      "cell_type": "code",
      "source": [
        "# Define a simple feedforward neural network\n",
        "class SimpleNN(nn.Module):\n",
        "    def __init__(self):\n",
        "        super(SimpleNN, self).__init__()\n",
        "        self.linear = nn.Linear(1, 1)  # 1 input, 1 output\n",
        "\n",
        "    def forward(self, x):\n",
        "        return self.linear(x)\n",
        "\n",
        "# Initialize the model\n",
        "model = SimpleNN()\n"
      ],
      "metadata": {
        "id": "x7R0zZ7Kr6m_"
      },
      "execution_count": 21,
      "outputs": []
    },
    {
      "cell_type": "markdown",
      "source": [
        "#### Define the Loss and Optimizer\n",
        "The loss function measures how well the model is performing, and the optimizer updates the model parameters:"
      ],
      "metadata": {
        "id": "P2wTKd6tsLdn"
      }
    },
    {
      "cell_type": "code",
      "source": [
        "# Mean Squared Error loss\n",
        "criterion = nn.MSELoss()\n",
        "\n",
        "# Stochastic Gradient Descent optimizer\n",
        "optimizer = optim.SGD(model.parameters(), lr=0.01)\n"
      ],
      "metadata": {
        "id": "bsd4jrs3sPpu"
      },
      "execution_count": 22,
      "outputs": []
    },
    {
      "cell_type": "markdown",
      "source": [
        "#### Train the Model\n",
        "Perform multiple iterations (epochs) of training:"
      ],
      "metadata": {
        "id": "1J8icjB5sYll"
      }
    },
    {
      "cell_type": "code",
      "source": [
        "# Train the model\n",
        "for epoch in range(100):  # Number of epochs\n",
        "    # Forward pass: Compute predictions\n",
        "    predictions = model(X)\n",
        "\n",
        "    # Compute the loss\n",
        "    loss = criterion(predictions, Y)\n",
        "\n",
        "    # Backward pass: Compute gradients\n",
        "    optimizer.zero_grad()\n",
        "    loss.backward()\n",
        "\n",
        "    # Update parameters\n",
        "    optimizer.step()\n",
        "\n",
        "    if (epoch + 1) % 10 == 0:  # Print loss every 10 epochs\n",
        "        print(f\"Epoch [{epoch + 1}/100], Loss: {loss.item():.4f}\")\n"
      ],
      "metadata": {
        "colab": {
          "base_uri": "https://localhost:8080/"
        },
        "id": "0ETgxwaCskmo",
        "outputId": "0fd9d185-2bef-4072-fbc9-2435366a56b8"
      },
      "execution_count": 23,
      "outputs": [
        {
          "output_type": "stream",
          "name": "stdout",
          "text": [
            "Epoch [10/100], Loss: 1.8384\n",
            "Epoch [20/100], Loss: 0.2641\n",
            "Epoch [30/100], Loss: 0.2108\n",
            "Epoch [40/100], Loss: 0.1975\n",
            "Epoch [50/100], Loss: 0.1860\n",
            "Epoch [60/100], Loss: 0.1752\n",
            "Epoch [70/100], Loss: 0.1650\n",
            "Epoch [80/100], Loss: 0.1554\n",
            "Epoch [90/100], Loss: 0.1463\n",
            "Epoch [100/100], Loss: 0.1378\n"
          ]
        }
      ]
    },
    {
      "cell_type": "markdown",
      "source": [
        "### Test the Model\n",
        "Use the trained model to make predictions:"
      ],
      "metadata": {
        "id": "g4zEN7Wzsx8Z"
      }
    },
    {
      "cell_type": "code",
      "source": [
        "# Test the model\n",
        "with torch.no_grad():  # No gradient calculation during testing\n",
        "    test_input = torch.tensor([[5.0]])\n",
        "    predicted_output = model(test_input)\n",
        "    print(f\"Prediction for input 5.0: {predicted_output.item():.2f}\")\n"
      ],
      "metadata": {
        "colab": {
          "base_uri": "https://localhost:8080/"
        },
        "id": "TfqUeFTutBVQ",
        "outputId": "0e8c06d6-d6d3-449b-c998-59fde04abdc9"
      },
      "execution_count": 24,
      "outputs": [
        {
          "output_type": "stream",
          "name": "stdout",
          "text": [
            "Prediction for input 5.0: 9.37\n"
          ]
        }
      ]
    }
  ]
}