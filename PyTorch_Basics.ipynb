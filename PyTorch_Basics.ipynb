{
  "nbformat": 4,
  "nbformat_minor": 0,
  "metadata": {
    "colab": {
      "provenance": [],
      "gpuType": "T4",
      "mount_file_id": "1KhHkKPvGBd78y1A8r61bXoDq6EinXlIM",
      "authorship_tag": "ABX9TyMnxctKDTbEpMFs9tttdRw/",
      "include_colab_link": true
    },
    "kernelspec": {
      "name": "python3",
      "display_name": "Python 3"
    },
    "language_info": {
      "name": "python"
    },
    "accelerator": "GPU"
  },
  "cells": [
    {
      "cell_type": "markdown",
      "metadata": {
        "id": "view-in-github",
        "colab_type": "text"
      },
      "source": [
        "<a href=\"https://colab.research.google.com/github/arifariofficial/google-collab/blob/main/PyTorch_Basics.ipynb\" target=\"_parent\"><img src=\"https://colab.research.google.com/assets/colab-badge.svg\" alt=\"Open In Colab\"/></a>"
      ]
    },
    {
      "cell_type": "code",
      "source": [
        "import torch\n",
        "print(\"PyTorch version:\", torch.__version__)\n",
        "print(\"Is CUDA available?\", torch.cuda.is_available())\n"
      ],
      "metadata": {
        "colab": {
          "base_uri": "https://localhost:8080/"
        },
        "id": "ssKGkU2OmEl7",
        "outputId": "4cc8ea72-bcd2-4fa9-ed08-386d012b2c24"
      },
      "execution_count": 1,
      "outputs": [
        {
          "output_type": "stream",
          "name": "stdout",
          "text": [
            "PyTorch version: 2.5.1+cu121\n",
            "Is CUDA available? True\n"
          ]
        }
      ]
    },
    {
      "cell_type": "code",
      "source": [
        "# Import PyTorch\n",
        "import torch\n",
        "\n",
        "# Create a tensor\n",
        "tensor = torch.tensor([1, 2, 3, 4, 5])\n",
        "\n",
        "# Print the tensor and its type\n",
        "print(\"Tensor:\", tensor)\n",
        "print(\"Type:\", tensor.dtype)\n",
        "print(\"Device:\", tensor.device)\n"
      ],
      "metadata": {
        "colab": {
          "base_uri": "https://localhost:8080/"
        },
        "id": "j2rfmn5imikE",
        "outputId": "fb6e576f-09e1-4242-ef06-f5b88508b2ab"
      },
      "execution_count": 2,
      "outputs": [
        {
          "output_type": "stream",
          "name": "stdout",
          "text": [
            "Tensor: tensor([1, 2, 3, 4, 5])\n",
            "Type: torch.int64\n",
            "Device: cpu\n"
          ]
        }
      ]
    },
    {
      "cell_type": "code",
      "source": [
        "# Create a tensor with float data type\n",
        "float_tensor = torch.tensor([1, 2, 3, 4, 5], dtype=torch.float32)\n",
        "print(\"Float Tensor:\", float_tensor)\n"
      ],
      "metadata": {
        "colab": {
          "base_uri": "https://localhost:8080/"
        },
        "id": "-JkqTwpmm7zF",
        "outputId": "0e19d74f-87ab-4821-d666-e8c2c2d7e51d"
      },
      "execution_count": 3,
      "outputs": [
        {
          "output_type": "stream",
          "name": "stdout",
          "text": [
            "Float Tensor: tensor([1., 2., 3., 4., 5.])\n"
          ]
        }
      ]
    }
  ]
}