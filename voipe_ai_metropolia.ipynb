{
  "nbformat": 4,
  "nbformat_minor": 0,
  "metadata": {
    "colab": {
      "provenance": [],
      "authorship_tag": "ABX9TyOKRXqY26BFdwl1rp/MTSxc",
      "include_colab_link": true
    },
    "kernelspec": {
      "name": "python3",
      "display_name": "Python 3"
    },
    "language_info": {
      "name": "python"
    }
  },
  "cells": [
    {
      "cell_type": "markdown",
      "metadata": {
        "id": "view-in-github",
        "colab_type": "text"
      },
      "source": [
        "<a href=\"https://colab.research.google.com/github/arifariofficial/google-collab/blob/main/voipe_ai_metropolia.ipynb\" target=\"_parent\"><img src=\"https://colab.research.google.com/assets/colab-badge.svg\" alt=\"Open In Colab\"/></a>"
      ]
    },
    {
      "cell_type": "markdown",
      "source": [
        "# Numpy and Arrays"
      ],
      "metadata": {
        "id": "_6udIPE1BP0R"
      }
    },
    {
      "cell_type": "markdown",
      "source": [
        "Array is created with the array () command, which passes items as a list (one-dimensional table) or as a list of lists (two-dimensional and multi-dimensional tables). E.g."
      ],
      "metadata": {
        "id": "LObXObqqBeZA"
      }
    },
    {
      "cell_type": "code",
      "source": [
        "import numpy as np\n",
        "x = np.array([1,3,4,5])\n",
        "A = np.array([[1,3],[4,5]])"
      ],
      "metadata": {
        "id": "OY9cHrVsBjsn"
      },
      "execution_count": 2,
      "outputs": []
    },
    {
      "cell_type": "markdown",
      "source": [
        "Arrays in Numpy has a shape, which indicates the number of elements in the table along each axis as a plural (tuple). E.g."
      ],
      "metadata": {
        "id": "kuO8WJWYBpOT"
      }
    },
    {
      "cell_type": "code",
      "source": [
        "print(np.shape(x))\n",
        "np.shape(A)"
      ],
      "metadata": {
        "colab": {
          "base_uri": "https://localhost:8080/"
        },
        "id": "SF4qOC1_BqPh",
        "outputId": "8e36ece0-a74b-4c95-f9dc-ea8c2f0bce03"
      },
      "execution_count": 3,
      "outputs": [
        {
          "output_type": "stream",
          "name": "stdout",
          "text": [
            "(4,)\n"
          ]
        },
        {
          "output_type": "execute_result",
          "data": {
            "text/plain": [
              "(2, 2)"
            ]
          },
          "metadata": {},
          "execution_count": 3
        }
      ]
    },
    {
      "cell_type": "markdown",
      "source": [
        "It is not appropriate to create large arrays with square brackets. Instead, arrays can be easily created to the desired size with the functions zeros (), ones (), and full (), to which information about the size of the array is conveyed as a plural. E.g."
      ],
      "metadata": {
        "id": "vZJII4h6B6GQ"
      }
    },
    {
      "cell_type": "code",
      "source": [
        "Z = np.zeros(5)\n",
        "print(Z)\n",
        "np.shape(Z)\n"
      ],
      "metadata": {
        "colab": {
          "base_uri": "https://localhost:8080/"
        },
        "id": "fdjeh1mBB9L6",
        "outputId": "1be3b48e-5e57-4d6a-b68c-14c8ab558f48"
      },
      "execution_count": 4,
      "outputs": [
        {
          "output_type": "stream",
          "name": "stdout",
          "text": [
            "[0. 0. 0. 0. 0.]\n"
          ]
        },
        {
          "output_type": "execute_result",
          "data": {
            "text/plain": [
              "(5,)"
            ]
          },
          "metadata": {},
          "execution_count": 4
        }
      ]
    },
    {
      "cell_type": "code",
      "source": [
        "Z2 = np.zeros((4,5)) # notice doulbe pracets\n",
        "print(Z2)\n",
        "np.shape(Z2)\n"
      ],
      "metadata": {
        "colab": {
          "base_uri": "https://localhost:8080/"
        },
        "id": "2pUaYCBOoqJ7",
        "outputId": "712bf748-c47b-4164-ecb8-2236a9b2ba19"
      },
      "execution_count": 5,
      "outputs": [
        {
          "output_type": "stream",
          "name": "stdout",
          "text": [
            "[[0. 0. 0. 0. 0.]\n",
            " [0. 0. 0. 0. 0.]\n",
            " [0. 0. 0. 0. 0.]\n",
            " [0. 0. 0. 0. 0.]]\n"
          ]
        },
        {
          "output_type": "execute_result",
          "data": {
            "text/plain": [
              "(4, 5)"
            ]
          },
          "metadata": {},
          "execution_count": 5
        }
      ]
    },
    {
      "cell_type": "code",
      "source": [
        "Y = np.ones((2,3))\n",
        "print(Y)\n"
      ],
      "metadata": {
        "colab": {
          "base_uri": "https://localhost:8080/"
        },
        "id": "AjThdDDcoyVO",
        "outputId": "24dc7e6e-6878-43f9-ed4e-422348de80e3"
      },
      "execution_count": 7,
      "outputs": [
        {
          "output_type": "stream",
          "name": "stdout",
          "text": [
            "[[1. 1. 1.]\n",
            " [1. 1. 1.]]\n"
          ]
        }
      ]
    },
    {
      "cell_type": "code",
      "source": [
        "F=np.full((7,8),11)\n",
        "F"
      ],
      "metadata": {
        "colab": {
          "base_uri": "https://localhost:8080/"
        },
        "id": "GShXF_kfo7Wu",
        "outputId": "7de3f1ce-b171-4397-c2de-45174e33a0e0"
      },
      "execution_count": 9,
      "outputs": [
        {
          "output_type": "execute_result",
          "data": {
            "text/plain": [
              "array([[11, 11, 11, 11, 11, 11, 11, 11],\n",
              "       [11, 11, 11, 11, 11, 11, 11, 11],\n",
              "       [11, 11, 11, 11, 11, 11, 11, 11],\n",
              "       [11, 11, 11, 11, 11, 11, 11, 11],\n",
              "       [11, 11, 11, 11, 11, 11, 11, 11],\n",
              "       [11, 11, 11, 11, 11, 11, 11, 11],\n",
              "       [11, 11, 11, 11, 11, 11, 11, 11]])"
            ]
          },
          "metadata": {},
          "execution_count": 9
        }
      ]
    },
    {
      "cell_type": "markdown",
      "source": [
        "Evenly spaced numbers can be easily generated with the linspace () and arange () functions. linspace () works by passing  an initial value, an end value, and the number of elements to it. E.g."
      ],
      "metadata": {
        "id": "sNnTn0KsCJqK"
      }
    },
    {
      "cell_type": "code",
      "source": [
        "x = np.linspace(0,5,10)\n",
        "print(x)"
      ],
      "metadata": {
        "colab": {
          "base_uri": "https://localhost:8080/"
        },
        "id": "qrhwq7xaCMEm",
        "outputId": "ab9a011b-7e1f-4750-a0ac-f3fe9151964a"
      },
      "execution_count": 10,
      "outputs": [
        {
          "output_type": "stream",
          "name": "stdout",
          "text": [
            "[0.         0.55555556 1.11111111 1.66666667 2.22222222 2.77777778\n",
            " 3.33333333 3.88888889 4.44444444 5.        ]\n"
          ]
        }
      ]
    },
    {
      "cell_type": "markdown",
      "source": [
        "The result is thus 10 elements between the start and end values, including the endpoints. arange () in turn takes the step length as the third parameter. E.g."
      ],
      "metadata": {
        "id": "ab0zo_xtCbob"
      }
    },
    {
      "cell_type": "code",
      "source": [
        "x2 = np.arange(0,5,0.2)\n",
        "print(x2)"
      ],
      "metadata": {
        "colab": {
          "base_uri": "https://localhost:8080/"
        },
        "id": "LT9T3DHLCf3r",
        "outputId": "68df95e7-51e7-498e-93e8-c9dff0004dfe"
      },
      "execution_count": 11,
      "outputs": [
        {
          "output_type": "stream",
          "name": "stdout",
          "text": [
            "[0.  0.2 0.4 0.6 0.8 1.  1.2 1.4 1.6 1.8 2.  2.2 2.4 2.6 2.8 3.  3.2 3.4\n",
            " 3.6 3.8 4.  4.2 4.4 4.6 4.8]\n"
          ]
        }
      ]
    },
    {
      "cell_type": "markdown",
      "source": [
        "Note that an array created with arange () does not reach a final value (so it works like range ()).\n",
        "\n",
        "Random integers ) between [a, b] can be generated with the command randint (), i.e.\n",
        "\n"
      ],
      "metadata": {
        "id": "RGJXuyI4CnFX"
      }
    },
    {
      "cell_type": "code",
      "source": [
        "a = 1\n",
        "b = 6\n",
        "amount = 50\n",
        "nopat = np.random.randint(a,b+1,amount)\n",
        "print(nopat)"
      ],
      "metadata": {
        "colab": {
          "base_uri": "https://localhost:8080/"
        },
        "id": "8etdtjAgCrCx",
        "outputId": "0b3accd2-7295-454c-caea-26712e504e1d"
      },
      "execution_count": 12,
      "outputs": [
        {
          "output_type": "stream",
          "name": "stdout",
          "text": [
            "[1 1 3 5 2 3 3 2 5 1 2 3 5 1 4 4 5 1 5 5 1 2 5 2 1 3 1 4 3 4 4 2 2 5 4 5 1\n",
            " 1 1 1 3 4 1 3 6 6 3 4 4 5]\n"
          ]
        }
      ]
    },
    {
      "cell_type": "markdown",
      "source": [
        "Note how the endpoint is not included here, so the second parameter must be b + 1. Normally distributed random numbers are obtained with the command randn (n), where n indicates the amount of numbers to be generated."
      ],
      "metadata": {
        "id": "tqJAoF5XC8Gq"
      }
    },
    {
      "cell_type": "code",
      "source": [
        "x = np.random.randn(100)\n",
        "print(x)"
      ],
      "metadata": {
        "colab": {
          "base_uri": "https://localhost:8080/"
        },
        "id": "pYn0Pn31DIfj",
        "outputId": "02c789e6-208a-4a85-c0a1-1df375b49fcb"
      },
      "execution_count": 13,
      "outputs": [
        {
          "output_type": "stream",
          "name": "stdout",
          "text": [
            "[-0.01173244  0.64494334  1.12239701 -0.54720712  0.14369018  0.46524699\n",
            " -0.32107297 -0.34988031  0.22267558 -1.25448624 -0.00511557 -0.25131858\n",
            "  0.74870519 -0.52125156 -1.24273529 -0.78733816 -1.65473177  0.57301256\n",
            " -0.69970475 -0.4604746  -0.4043009   1.07465006  0.46519897 -0.0448271\n",
            "  0.91692803 -0.55952068 -0.19202292  1.23763255 -0.44016741 -1.80269828\n",
            " -1.07124262  1.31118345  0.56102636  1.32955089 -0.72082989 -0.13719144\n",
            "  0.87318816 -1.08309726 -0.49284764  0.48119185  1.68954025 -2.79114604\n",
            "  1.15978777 -0.35109051 -1.15331607 -0.32080142 -0.1325342   0.99933953\n",
            " -1.95809387  0.41337839 -0.81956538  1.21738632  0.25020879 -0.38902476\n",
            "  1.17793327 -0.04269886  0.30813761  0.93385714 -0.18156886  0.93967758\n",
            "  1.30579598 -0.03499782 -0.10946951 -1.18412487 -0.10077044 -0.65959467\n",
            " -0.86553895  0.50258211  0.42620587  0.07058213 -1.00513457 -2.4151177\n",
            "  0.08431232  0.65210263  0.1841964  -0.61916474 -0.13810725 -0.28238984\n",
            " -0.09685728 -0.24051261 -0.41849554  1.2935687  -1.53154989  1.49554838\n",
            " -1.11845863  0.20520412 -0.12108203 -1.41025032  1.09864814 -0.50347253\n",
            "  0.26334808  0.59902772 -1.60812996  1.40058492 -0.08632131 -0.94272703\n",
            "  0.66009404  1.17532686  0.68637065 -1.04854814]\n"
          ]
        }
      ]
    },
    {
      "cell_type": "markdown",
      "source": [
        "The random () command produces random numbers evenly distributed over a semi-open interval [0.0, 1.0). So these are decimal numbers. E.g."
      ],
      "metadata": {
        "id": "NCLGdYHxDV7C"
      }
    },
    {
      "cell_type": "code",
      "source": [
        "x = np.random.random(10)\n",
        "print(x)"
      ],
      "metadata": {
        "colab": {
          "base_uri": "https://localhost:8080/"
        },
        "id": "vKewHFvYDbz5",
        "outputId": "27f00108-dc4d-4ea4-a493-e45292b0458d"
      },
      "execution_count": 14,
      "outputs": [
        {
          "output_type": "stream",
          "name": "stdout",
          "text": [
            "[0.64552587 0.69872115 0.25180523 0.09446671 0.53308371 0.80610004\n",
            " 0.71811407 0.95865892 0.70098358 0.34979121]\n"
          ]
        }
      ]
    },
    {
      "cell_type": "markdown",
      "source": [
        "The numbers of dimensions and elements in the table are determined by the attributes ndim and size. E.g."
      ],
      "metadata": {
        "id": "AqnUtPq9DzGk"
      }
    },
    {
      "cell_type": "code",
      "source": [
        "x = np.array([1,3,4,5])\n",
        "A = np.array([[1,3],[4,5]])\n",
        "\n",
        "print(\"x size: \", x.size)\n",
        "print(\"x dim: \", x.ndim)\n",
        "print(\"A size: \", A.size)\n",
        "print(\"A size: \", A.ndim)"
      ],
      "metadata": {
        "colab": {
          "base_uri": "https://localhost:8080/"
        },
        "id": "ADR9ByX5DcTv",
        "outputId": "220da9cd-8118-455f-a786-9c5cff5e6b10"
      },
      "execution_count": 18,
      "outputs": [
        {
          "output_type": "stream",
          "name": "stdout",
          "text": [
            "x size:  4\n",
            "x dim:  1\n",
            "A size:  4\n",
            "A size:  2\n"
          ]
        }
      ]
    },
    {
      "cell_type": "markdown",
      "source": [
        "# Cutting Matrices (indexing)"
      ],
      "metadata": {
        "id": "8tQ9LUQeEW2I"
      }
    },
    {
      "cell_type": "markdown",
      "source": [
        "Cutting a one-dimensional array is done in the usual way with square brackets by indexing. Remember that places are indexed from zero!\n",
        "\n",
        "The two-dimensional array is indexed (cut) by two indexes within one square bracket:"
      ],
      "metadata": {
        "id": "PjrCiVPOEcKl"
      }
    },
    {
      "cell_type": "code",
      "source": [
        "A = np.array([[1,2,3],[4,5,6]])\n",
        "print(A[0,0])\n",
        "print(A[0,1])"
      ],
      "metadata": {
        "colab": {
          "base_uri": "https://localhost:8080/"
        },
        "id": "yjY2d2EfEd7Z",
        "outputId": "ce03c938-1673-4ddb-fec5-6dc3718a53a2"
      },
      "execution_count": 20,
      "outputs": [
        {
          "output_type": "stream",
          "name": "stdout",
          "text": [
            "1\n",
            "2\n"
          ]
        }
      ]
    },
    {
      "cell_type": "markdown",
      "source": [
        "The three-dimensional array is cut with three indexes, respectively.\n",
        "\n",
        "A negative index works in the same way as with lists, i.e. it counts from the end. A colon is used to cut an entire row or column. E.g."
      ],
      "metadata": {
        "id": "yshTYVZ2Ew8P"
      }
    },
    {
      "cell_type": "code",
      "source": [
        "A[:,0] # fisrt column, \":\"reads all rows"
      ],
      "metadata": {
        "colab": {
          "base_uri": "https://localhost:8080/"
        },
        "id": "N6D_ptclEyLc",
        "outputId": "3568351d-d091-4a02-a66a-a3008c34811f"
      },
      "execution_count": 21,
      "outputs": [
        {
          "output_type": "execute_result",
          "data": {
            "text/plain": [
              "array([1, 4])"
            ]
          },
          "metadata": {},
          "execution_count": 21
        }
      ]
    },
    {
      "cell_type": "code",
      "source": [
        "A[0,:] # first row, \":\" reads all columns"
      ],
      "metadata": {
        "colab": {
          "base_uri": "https://localhost:8080/"
        },
        "id": "G2iaowHFE8QM",
        "outputId": "094a8dc2-26e8-455d-af51-840a0e5ff18a"
      },
      "execution_count": 22,
      "outputs": [
        {
          "output_type": "execute_result",
          "data": {
            "text/plain": [
              "array([1, 2, 3])"
            ]
          },
          "metadata": {},
          "execution_count": 22
        }
      ]
    },
    {
      "cell_type": "markdown",
      "source": [
        "The colon can also be used to create index spaces with the start: end: step syntax, so that the intersection no longer targets the end. The index spacing can be used to index both rows and columns. E.g."
      ],
      "metadata": {
        "id": "08vTbd6QHk9C"
      }
    },
    {
      "cell_type": "code",
      "source": [
        "A = np.array([1,2,3,4,5,6,7,8,9])\n",
        "A[0:6:1]\n"
      ],
      "metadata": {
        "colab": {
          "base_uri": "https://localhost:8080/"
        },
        "id": "KQ1SYEmKHsJk",
        "outputId": "792ef50b-4ac8-49b3-fa3a-9a535db16cd3"
      },
      "execution_count": 23,
      "outputs": [
        {
          "output_type": "execute_result",
          "data": {
            "text/plain": [
              "array([1, 2, 3, 4, 5, 6])"
            ]
          },
          "metadata": {},
          "execution_count": 23
        }
      ]
    },
    {
      "cell_type": "code",
      "source": [
        "# start = 0, end = 9, step = 3\n",
        "A[0:9:3]\n"
      ],
      "metadata": {
        "colab": {
          "base_uri": "https://localhost:8080/"
        },
        "id": "vujFu4h7H67A",
        "outputId": "3f7f51d2-3a1e-4e74-823a-94c4fa7c11e1"
      },
      "execution_count": 24,
      "outputs": [
        {
          "output_type": "execute_result",
          "data": {
            "text/plain": [
              "array([1, 4, 7])"
            ]
          },
          "metadata": {},
          "execution_count": 24
        }
      ]
    },
    {
      "cell_type": "markdown",
      "source": [
        "Items can be updated with a combination of an signing statement and a cut. E.g."
      ],
      "metadata": {
        "id": "tWI8Jgp1J7bP"
      }
    },
    {
      "cell_type": "code",
      "source": [
        "A = np.array([[1,2,3],[4,5,6]])\n",
        "A[0,0] = 17\n",
        "A[1,:] = [11,12,13]\n",
        "A"
      ],
      "metadata": {
        "colab": {
          "base_uri": "https://localhost:8080/"
        },
        "id": "Np4hMZhaKSUF",
        "outputId": "c2e08693-ecdb-4a8d-a415-fae6f1cd39e0"
      },
      "execution_count": 25,
      "outputs": [
        {
          "output_type": "execute_result",
          "data": {
            "text/plain": [
              "array([[17,  2,  3],\n",
              "       [11, 12, 13]])"
            ]
          },
          "metadata": {},
          "execution_count": 25
        }
      ]
    },
    {
      "cell_type": "markdown",
      "source": [
        "Tables can be stacked with the vstack () command. E.g."
      ],
      "metadata": {
        "id": "xvvUZfRGKlNv"
      }
    },
    {
      "cell_type": "code",
      "source": [
        "A = np.array([[1,2,3],[4,5,6]])"
      ],
      "metadata": {
        "id": "JWPrmzoFLGax"
      },
      "execution_count": 26,
      "outputs": []
    },
    {
      "cell_type": "code",
      "source": [
        "new = np.vstack((A,A))\n",
        "new"
      ],
      "metadata": {
        "colab": {
          "base_uri": "https://localhost:8080/"
        },
        "id": "eqXmkliSKnQ9",
        "outputId": "f8284aab-3098-4b43-f39c-4cafb2690152"
      },
      "execution_count": 27,
      "outputs": [
        {
          "output_type": "execute_result",
          "data": {
            "text/plain": [
              "array([[1, 2, 3],\n",
              "       [4, 5, 6],\n",
              "       [1, 2, 3],\n",
              "       [4, 5, 6]])"
            ]
          },
          "metadata": {},
          "execution_count": 27
        }
      ]
    },
    {
      "cell_type": "markdown",
      "source": [
        "This method can therefore be used to add horizontal rows to the beginning or end of a table. However, stackable tables must be compatible in shape. Horizontal stacking connects tables side by side. E.g."
      ],
      "metadata": {
        "id": "hLFifxPfK6de"
      }
    },
    {
      "cell_type": "code",
      "source": [
        "new2 = np.hstack((A,A))\n",
        "new2"
      ],
      "metadata": {
        "colab": {
          "base_uri": "https://localhost:8080/"
        },
        "id": "y4Sw3ZqHK82m",
        "outputId": "61150ea2-0151-45a8-a38c-577ec79ebf36"
      },
      "execution_count": 28,
      "outputs": [
        {
          "output_type": "execute_result",
          "data": {
            "text/plain": [
              "array([[1, 2, 3, 1, 2, 3],\n",
              "       [4, 5, 6, 4, 5, 6]])"
            ]
          },
          "metadata": {},
          "execution_count": 28
        }
      ]
    },
    {
      "cell_type": "markdown",
      "source": [
        "Deleting a row and column is done with the delete command, to which information about the index of the row / column to be deleted and the dimension of the deletion operation must be passed (0 = for rows, 1 = for columns)."
      ],
      "metadata": {
        "id": "a4Ifyt2SLR_L"
      }
    },
    {
      "cell_type": "code",
      "source": [
        "A = np.array([[1,2,3],\n",
        "              [4,5,6]])\n",
        "\n",
        "B = np.delete(A,[0],0)\n",
        "B"
      ],
      "metadata": {
        "colab": {
          "base_uri": "https://localhost:8080/"
        },
        "id": "k3JBf4JiLULU",
        "outputId": "77f5bf12-8183-4304-fd8c-7006a4097273"
      },
      "execution_count": 29,
      "outputs": [
        {
          "output_type": "execute_result",
          "data": {
            "text/plain": [
              "array([[4, 5, 6]])"
            ]
          },
          "metadata": {},
          "execution_count": 29
        }
      ]
    },
    {
      "cell_type": "code",
      "source": [
        "C = np.delete(A,[1],0)\n",
        "C"
      ],
      "metadata": {
        "colab": {
          "base_uri": "https://localhost:8080/"
        },
        "id": "4LQdmU1mNC9W",
        "outputId": "d59a7321-1b3c-410e-9c7d-b839ddbc6e26"
      },
      "execution_count": 30,
      "outputs": [
        {
          "output_type": "execute_result",
          "data": {
            "text/plain": [
              "array([[1, 2, 3]])"
            ]
          },
          "metadata": {},
          "execution_count": 30
        }
      ]
    },
    {
      "cell_type": "code",
      "source": [
        "D = np.delete(A,[0],1)\n",
        "D"
      ],
      "metadata": {
        "colab": {
          "base_uri": "https://localhost:8080/"
        },
        "id": "BzHOLs-7N231",
        "outputId": "a7852f0e-5e78-4d74-ca87-b3d442837b58"
      },
      "execution_count": 31,
      "outputs": [
        {
          "output_type": "execute_result",
          "data": {
            "text/plain": [
              "array([[2, 3],\n",
              "       [5, 6]])"
            ]
          },
          "metadata": {},
          "execution_count": 31
        }
      ]
    },
    {
      "cell_type": "markdown",
      "source": [
        "A single item cannot be removed as it would make holes in the matrix.\n",
        "\n",
        "The table can be traversed (iterated) in many different ways. For example, one line at a time"
      ],
      "metadata": {
        "id": "py4ICYokOXIy"
      }
    },
    {
      "cell_type": "code",
      "source": [
        "A = np.array([1,2,3,4,5,6])\n",
        "A = A.reshape(2,3)\n",
        "A\n"
      ],
      "metadata": {
        "colab": {
          "base_uri": "https://localhost:8080/"
        },
        "id": "CxCSKd17OZYC",
        "outputId": "aea307db-dd74-48e9-b34b-25e4e12e68be"
      },
      "execution_count": 32,
      "outputs": [
        {
          "output_type": "execute_result",
          "data": {
            "text/plain": [
              "array([[1, 2, 3],\n",
              "       [4, 5, 6]])"
            ]
          },
          "metadata": {},
          "execution_count": 32
        }
      ]
    },
    {
      "cell_type": "markdown",
      "source": [
        "Row by row"
      ],
      "metadata": {
        "id": "TOEDWd50PU79"
      }
    },
    {
      "cell_type": "code",
      "source": [
        "n,m = np.shape(A)\n",
        "for i in range(n):\n",
        "    print(\"Row\",i,\"is\",A[i,:])\n"
      ],
      "metadata": {
        "colab": {
          "base_uri": "https://localhost:8080/"
        },
        "id": "ViBBDYQ9Ok1V",
        "outputId": "0dc0958f-ee6a-4737-bcb7-ce6858750fc8"
      },
      "execution_count": 33,
      "outputs": [
        {
          "output_type": "stream",
          "name": "stdout",
          "text": [
            "Row 0 is [1 2 3]\n",
            "Row 1 is [4 5 6]\n"
          ]
        }
      ]
    },
    {
      "cell_type": "markdown",
      "source": [
        "Column by column"
      ],
      "metadata": {
        "id": "AtmsdtjIPAyl"
      }
    },
    {
      "cell_type": "code",
      "source": [
        "for j in range(m):\n",
        "    print(\"Column\",j,\"is\",A[:,j])"
      ],
      "metadata": {
        "colab": {
          "base_uri": "https://localhost:8080/"
        },
        "id": "mulS_EqUPCrh",
        "outputId": "a853b945-b97d-451e-b7fd-35e8c921385d"
      },
      "execution_count": 34,
      "outputs": [
        {
          "output_type": "stream",
          "name": "stdout",
          "text": [
            "Column 0 is [1 4]\n",
            "Column 1 is [2 5]\n",
            "Column 2 is [3 6]\n"
          ]
        }
      ]
    },
    {
      "cell_type": "markdown",
      "source": [
        "One element at a time"
      ],
      "metadata": {
        "id": "wnaDI7o7PaZl"
      }
    },
    {
      "cell_type": "code",
      "source": [
        "for i in range(n):\n",
        "    for j in range(m):\n",
        "        print(\"Element\",i,j,\"is\",A[i,j])"
      ],
      "metadata": {
        "colab": {
          "base_uri": "https://localhost:8080/"
        },
        "id": "6IXo9FdnPhAK",
        "outputId": "e13bb604-2d3c-441f-8518-4eef10995adb"
      },
      "execution_count": 35,
      "outputs": [
        {
          "output_type": "stream",
          "name": "stdout",
          "text": [
            "Element 0 0 is 1\n",
            "Element 0 1 is 2\n",
            "Element 0 2 is 3\n",
            "Element 1 0 is 4\n",
            "Element 1 1 is 5\n",
            "Element 1 2 is 6\n"
          ]
        }
      ]
    },
    {
      "cell_type": "markdown",
      "source": [
        "Another way to iterate the table item by item is to use a single iteration structure. This is especially useful for high-dimension arrays"
      ],
      "metadata": {
        "id": "S0Gw9HrIPqXv"
      }
    },
    {
      "cell_type": "code",
      "source": [
        "for a in np.nditer(A):\n",
        "    print(a)"
      ],
      "metadata": {
        "colab": {
          "base_uri": "https://localhost:8080/"
        },
        "id": "4ilOyZjSPqCP",
        "outputId": "41487ea2-7616-402a-fc6b-69dbc4513b56"
      },
      "execution_count": 36,
      "outputs": [
        {
          "output_type": "stream",
          "name": "stdout",
          "text": [
            "1\n",
            "2\n",
            "3\n",
            "4\n",
            "5\n",
            "6\n"
          ]
        }
      ]
    },
    {
      "cell_type": "markdown",
      "source": [
        "Notice how here again the order goes to the lines above (dimension / axis 0)."
      ],
      "metadata": {
        "id": "0lMjn1z8P0Uf"
      }
    },
    {
      "cell_type": "markdown",
      "source": [
        "# Calculations with Matrics"
      ],
      "metadata": {
        "id": "tJFd8wT1uUIF"
      }
    },
    {
      "cell_type": "markdown",
      "source": [
        "As with regular numbers, calculations can also be performed on matrices. Addition and subtraction work on the tables item by item, ie the counterparts in the same place in the two matrices are added together (or subtracted from each other). Note that the list structure in Python does not support these kinds of vectorized calculations, Numpy library is needed. E.g."
      ],
      "metadata": {
        "id": "ddbtYonbuaoV"
      }
    },
    {
      "cell_type": "code",
      "source": [
        "A = np.array([[1,2],[3,4]])\n",
        "B = np.array([[3,9],[4,-1]])\n"
      ],
      "metadata": {
        "id": "J8kmnb4HuaUY"
      },
      "execution_count": 38,
      "outputs": []
    },
    {
      "cell_type": "code",
      "source": [
        "A+B"
      ],
      "metadata": {
        "colab": {
          "base_uri": "https://localhost:8080/"
        },
        "id": "o4CB1lgiui7t",
        "outputId": "06fdf955-f959-41db-f2be-295498cb60ff"
      },
      "execution_count": 39,
      "outputs": [
        {
          "output_type": "execute_result",
          "data": {
            "text/plain": [
              "array([[ 4, 11],\n",
              "       [ 7,  3]])"
            ]
          },
          "metadata": {},
          "execution_count": 39
        }
      ]
    },
    {
      "cell_type": "code",
      "source": [
        "A-B"
      ],
      "metadata": {
        "colab": {
          "base_uri": "https://localhost:8080/"
        },
        "id": "y_HRbxgku00z",
        "outputId": "41c9f8ec-50d7-4be7-8415-6452ab8987ed"
      },
      "execution_count": 40,
      "outputs": [
        {
          "output_type": "execute_result",
          "data": {
            "text/plain": [
              "array([[-2, -7],\n",
              "       [-1,  5]])"
            ]
          },
          "metadata": {},
          "execution_count": 40
        }
      ]
    },
    {
      "cell_type": "markdown",
      "source": [
        "Multiplication and division also work with the same idea."
      ],
      "metadata": {
        "id": "p0THSmMqu6Y3"
      }
    },
    {
      "cell_type": "code",
      "source": [
        "A*B"
      ],
      "metadata": {
        "colab": {
          "base_uri": "https://localhost:8080/"
        },
        "id": "6oiCIaUGu7ev",
        "outputId": "5045a46a-032f-488f-8b48-f6f5533c7dfb"
      },
      "execution_count": 41,
      "outputs": [
        {
          "output_type": "execute_result",
          "data": {
            "text/plain": [
              "array([[ 3, 18],\n",
              "       [12, -4]])"
            ]
          },
          "metadata": {},
          "execution_count": 41
        }
      ]
    },
    {
      "cell_type": "code",
      "source": [
        "A/B"
      ],
      "metadata": {
        "colab": {
          "base_uri": "https://localhost:8080/"
        },
        "id": "G-MMde24u-TZ",
        "outputId": "e148f0ab-5990-4b41-e7bc-c5fbdf6f9446"
      },
      "execution_count": 42,
      "outputs": [
        {
          "output_type": "execute_result",
          "data": {
            "text/plain": [
              "array([[ 0.33333333,  0.22222222],\n",
              "       [ 0.75      , -4.        ]])"
            ]
          },
          "metadata": {},
          "execution_count": 42
        }
      ]
    },
    {
      "cell_type": "markdown",
      "source": [
        "This way, you can create a large matrix that contains the desired number for each item (or use the full () command). E.g."
      ],
      "metadata": {
        "id": "RxbgrQLdvEAS"
      }
    },
    {
      "cell_type": "code",
      "source": [
        "T = 5*np.ones((10,10))\n",
        "print(T)"
      ],
      "metadata": {
        "colab": {
          "base_uri": "https://localhost:8080/"
        },
        "id": "vl5XMfJDvFAC",
        "outputId": "9594343a-3c60-4299-81c0-53b7dc8d7505"
      },
      "execution_count": 45,
      "outputs": [
        {
          "output_type": "stream",
          "name": "stdout",
          "text": [
            "[[5. 5. 5. 5. 5. 5. 5. 5. 5. 5.]\n",
            " [5. 5. 5. 5. 5. 5. 5. 5. 5. 5.]\n",
            " [5. 5. 5. 5. 5. 5. 5. 5. 5. 5.]\n",
            " [5. 5. 5. 5. 5. 5. 5. 5. 5. 5.]\n",
            " [5. 5. 5. 5. 5. 5. 5. 5. 5. 5.]\n",
            " [5. 5. 5. 5. 5. 5. 5. 5. 5. 5.]\n",
            " [5. 5. 5. 5. 5. 5. 5. 5. 5. 5.]\n",
            " [5. 5. 5. 5. 5. 5. 5. 5. 5. 5.]\n",
            " [5. 5. 5. 5. 5. 5. 5. 5. 5. 5.]\n",
            " [5. 5. 5. 5. 5. 5. 5. 5. 5. 5.]]\n"
          ]
        }
      ]
    },
    {
      "cell_type": "markdown",
      "source": [
        "These calculations, of course, require that the matrices A and B are the same size (shape the same) or that the other is a mere number. E.g."
      ],
      "metadata": {
        "id": "VigWhc-tvRvg"
      }
    },
    {
      "cell_type": "code",
      "source": [
        "A = np.array([[1,2],[3,4]])\n",
        "B = np.array([[3,9],[4,-1]])\n"
      ],
      "metadata": {
        "id": "pfq2sGO5vXxe"
      },
      "execution_count": 47,
      "outputs": []
    },
    {
      "cell_type": "code",
      "source": [
        "A-1"
      ],
      "metadata": {
        "colab": {
          "base_uri": "https://localhost:8080/"
        },
        "id": "0NCTr2c8vS_p",
        "outputId": "8ff980bf-bf3b-47c5-9d94-f0b1a040300f"
      },
      "execution_count": 48,
      "outputs": [
        {
          "output_type": "execute_result",
          "data": {
            "text/plain": [
              "array([[0, 1],\n",
              "       [2, 3]])"
            ]
          },
          "metadata": {},
          "execution_count": 48
        }
      ]
    },
    {
      "cell_type": "code",
      "source": [
        "B+2"
      ],
      "metadata": {
        "colab": {
          "base_uri": "https://localhost:8080/"
        },
        "id": "N8NczyvHveRD",
        "outputId": "87050aaa-1f97-4f28-f3c8-2f3e874587f4"
      },
      "execution_count": 49,
      "outputs": [
        {
          "output_type": "execute_result",
          "data": {
            "text/plain": [
              "array([[ 5, 11],\n",
              "       [ 6,  1]])"
            ]
          },
          "metadata": {},
          "execution_count": 49
        }
      ]
    },
    {
      "cell_type": "markdown",
      "source": [
        "succeed without the use of ones (). The increase in power by item is done with the command\n",
        "\n"
      ],
      "metadata": {
        "id": "TTYAP5bXvjaz"
      }
    },
    {
      "cell_type": "code",
      "source": [
        "A**2"
      ],
      "metadata": {
        "colab": {
          "base_uri": "https://localhost:8080/"
        },
        "id": "E0hCj8mbvlSi",
        "outputId": "7eae12b4-2a2a-42ba-d1a4-5fcff13e7cde"
      },
      "execution_count": 50,
      "outputs": [
        {
          "output_type": "execute_result",
          "data": {
            "text/plain": [
              "array([[ 1,  4],\n",
              "       [ 9, 16]])"
            ]
          },
          "metadata": {},
          "execution_count": 50
        }
      ]
    },
    {
      "cell_type": "markdown",
      "source": [
        "There is also a completely unique multiplication (matrix product, matrix multiplication) for matrices, which does not work element by element but corresponds to the concept of multiplication in linear algebra. The matrix product AB is defined if the number of columns in A is the same as the number of rows in B (the exact definition can be found in Wikipedia, for example).\n",
        "\n",
        "Numpy's matmul () command or operator @ performs this multiplication. E.g."
      ],
      "metadata": {
        "id": "UfZV6glxvrqY"
      }
    },
    {
      "cell_type": "code",
      "source": [
        "A = np.array([[1,2],[3,4]])\n",
        "B = np.array([[3,9],[4,-1]])\n",
        "\n",
        "np.matmul(A,B) # or A @ B"
      ],
      "metadata": {
        "colab": {
          "base_uri": "https://localhost:8080/"
        },
        "id": "Oy-VBAnEvrQJ",
        "outputId": "d55df72d-eda8-4d8c-886c-5edb8ec31b30"
      },
      "execution_count": 52,
      "outputs": [
        {
          "output_type": "execute_result",
          "data": {
            "text/plain": [
              "array([[11,  7],\n",
              "       [25, 23]])"
            ]
          },
          "metadata": {},
          "execution_count": 52
        }
      ]
    },
    {
      "cell_type": "markdown",
      "source": [
        "For one-dimensional tables (i.e. vectors), dot () produces the point product (scalar product) of the vectors. In that case, the compatibility of the forms of income factors is not taken into account."
      ],
      "metadata": {
        "id": "XMg8hO_3wOoZ"
      }
    },
    {
      "cell_type": "code",
      "source": [
        "x = np.array([1,3,4,5])\n",
        "x.dot(x)"
      ],
      "metadata": {
        "colab": {
          "base_uri": "https://localhost:8080/"
        },
        "id": "3d10vbI0wPgO",
        "outputId": "dba8102f-ef9a-47ab-d2c1-1a5ede9e3195"
      },
      "execution_count": 54,
      "outputs": [
        {
          "output_type": "execute_result",
          "data": {
            "text/plain": [
              "51"
            ]
          },
          "metadata": {},
          "execution_count": 54
        }
      ]
    },
    {
      "cell_type": "markdown",
      "source": [
        "It is also possible to calculate the matrix product between the matrix and the vertical vector, in which case an elementary product would not even be possible. E.g."
      ],
      "metadata": {
        "id": "R9a8fkzRw3xU"
      }
    },
    {
      "cell_type": "code",
      "source": [
        "A = np.array([[1,2],[3,4]])\n",
        "b = np.array([[5],[7]])\n",
        "np.matmul(A,b)"
      ],
      "metadata": {
        "colab": {
          "base_uri": "https://localhost:8080/"
        },
        "id": "O4c5Xddvw5mk",
        "outputId": "88d320ec-5bf9-49ce-d75b-9ea1c47eba06"
      },
      "execution_count": 56,
      "outputs": [
        {
          "output_type": "execute_result",
          "data": {
            "text/plain": [
              "array([[19],\n",
              "       [43]])"
            ]
          },
          "metadata": {},
          "execution_count": 56
        }
      ]
    },
    {
      "cell_type": "markdown",
      "source": [
        "So note that matmul () / dot () does not compute an elementary product but something completely different (related to a linear algebra).\n",
        "\n",
        "In addition to the basic calculations, the application of elementary functions to the matrix is ​​done item by item. E.g."
      ],
      "metadata": {
        "id": "SrQPVc2Hxgt8"
      }
    },
    {
      "cell_type": "code",
      "source": [
        "np.sqrt(A) # the square root of each item\n",
        "np.sin(A)\n",
        "np.cos(A)\n",
        "np.tan(A)\n",
        "np.log(A)\n",
        "np.exp(A)\n",
        "np.log10(A)\n",
        "np.log2(A)"
      ],
      "metadata": {
        "colab": {
          "base_uri": "https://localhost:8080/"
        },
        "id": "bbSc2osfxiwv",
        "outputId": "f2fa4baf-ab4c-45ab-b14d-644393255c4a"
      },
      "execution_count": 57,
      "outputs": [
        {
          "output_type": "execute_result",
          "data": {
            "text/plain": [
              "array([[0.       , 1.       ],\n",
              "       [1.5849625, 2.       ]])"
            ]
          },
          "metadata": {},
          "execution_count": 57
        }
      ]
    },
    {
      "cell_type": "markdown",
      "source": [
        "It is important to use the numpy library and not the math library, which also has elementary functions, but they do not work with matrices.\n",
        "\n",
        "Comparison operators also target matrices by item. E.g."
      ],
      "metadata": {
        "id": "tVTX6mFhxq7A"
      }
    },
    {
      "cell_type": "code",
      "source": [
        "A = np.array([[1,2],[3,4]])"
      ],
      "metadata": {
        "id": "5e5_oorhx1lf"
      },
      "execution_count": 59,
      "outputs": []
    },
    {
      "cell_type": "code",
      "source": [
        "A > 1\n"
      ],
      "metadata": {
        "colab": {
          "base_uri": "https://localhost:8080/"
        },
        "id": "E4bo2pinxxOr",
        "outputId": "4c935016-af6f-49bd-9446-1dc0fc886bde"
      },
      "execution_count": 61,
      "outputs": [
        {
          "output_type": "execute_result",
          "data": {
            "text/plain": [
              "array([[False,  True],\n",
              "       [ True,  True]])"
            ]
          },
          "metadata": {},
          "execution_count": 61
        }
      ]
    },
    {
      "cell_type": "code",
      "source": [
        "A <= 0"
      ],
      "metadata": {
        "colab": {
          "base_uri": "https://localhost:8080/"
        },
        "id": "5ooc9TqsyBx_",
        "outputId": "1a3f4653-4541-42fb-ccc0-7f0962e67c97"
      },
      "execution_count": 62,
      "outputs": [
        {
          "output_type": "execute_result",
          "data": {
            "text/plain": [
              "array([[False, False],\n",
              "       [False, False]])"
            ]
          },
          "metadata": {},
          "execution_count": 62
        }
      ]
    },
    {
      "cell_type": "markdown",
      "source": [
        "The result is a matrix formed from the truth values ​​True and False, to which the functions any () / all () can be assigned, which tells whether one of the truth values ​​is True and, respectively, whether all the values ​​are True. E.g."
      ],
      "metadata": {
        "id": "yy7OfrXJx9N5"
      }
    },
    {
      "cell_type": "code",
      "source": [
        "np.all(A>1)"
      ],
      "metadata": {
        "colab": {
          "base_uri": "https://localhost:8080/"
        },
        "id": "SqROld1-yJ98",
        "outputId": "7ee7850d-60b6-4ee0-87bf-c8ea9791ecfa"
      },
      "execution_count": 63,
      "outputs": [
        {
          "output_type": "execute_result",
          "data": {
            "text/plain": [
              "False"
            ]
          },
          "metadata": {},
          "execution_count": 63
        }
      ]
    },
    {
      "cell_type": "code",
      "source": [
        "np.any(A>1)"
      ],
      "metadata": {
        "colab": {
          "base_uri": "https://localhost:8080/"
        },
        "id": "Scoo9mz3yL5f",
        "outputId": "8c65ee83-8f34-4d34-d849-ad7879c9fe5d"
      },
      "execution_count": 64,
      "outputs": [
        {
          "output_type": "execute_result",
          "data": {
            "text/plain": [
              "True"
            ]
          },
          "metadata": {},
          "execution_count": 64
        }
      ]
    },
    {
      "cell_type": "markdown",
      "source": [
        "Operators can be used at the same time as the cut to select only items from a table that fulfill any of the conditions. E.g.\n",
        "\n"
      ],
      "metadata": {
        "id": "UKiEWZ8LyOp-"
      }
    },
    {
      "cell_type": "code",
      "source": [
        "A = np.array([1,2,3,4,5,6,7])\n",
        "B = A[A>3]"
      ],
      "metadata": {
        "id": "n3rNRXAByR0_"
      },
      "execution_count": 65,
      "outputs": []
    },
    {
      "cell_type": "markdown",
      "source": [
        "This is based on the fact that the cut can be made using the list as indexes.\n",
        "\n",
        "Let's go back briefly to the matrix product. Consider a pair of equations formed by two equations\n",
        "\n",
        "\\begin{cases}\n",
        "2x+y=11\\\\\n",
        "-4x+3y=3\n",
        "\\end{cases}\n",
        "\n",
        "This can be represented by (vertical) vectors in the form\n",
        "\n",
        "\\begin{pmatrix}\n",
        "2x+y\\\\\n",
        "-4x+3y\n",
        "\\end{pmatrix}=\\begin{pmatrix}\n",
        "11\\\\\n",
        "3\n",
        "\\end{pmatrix}\n",
        "\n",
        "when the equality (comparison) of the vectors is handled item by item. However, it now appears that the left side of the previous formula can be written as a multiplication of the matrix and the vector, in which case the equation is\n",
        "\n",
        "\\begin{pmatrix}\n",
        "2&1\\\\\n",
        "-4&3\n",
        "\\end{pmatrix}\\begin{pmatrix}\n",
        "x\\\\\n",
        "y\n",
        "\\end{pmatrix}=\\begin{pmatrix}\n",
        "11\\\\\n",
        "3\n",
        "\\end{pmatrix}\n",
        "\n",
        "In short, this is where A X = b, where A is the 2x2 matrix, X is (vertical) vector composed by x and y  and b is (vertical) vector on the right. Solving a set of equations can be understood by looking for the inverse of the matrix A \\implies A^{-1} and multiplying the vector by  b. Thus the solution is a vertical vector X = A^{- 1} b, from which we can extract x and y. Here, all multiplications are specifically matrix products. The same idea works for a larger group of equations, i.e., several unknown variables.\n",
        "\n",
        "In practice, the solution of the group of equations is not done through the inverse matrix because it is quite a heavy operation for large matrices. Instead, other methods are used, we won’t go into details here. However, it is noted that numpy can solve a group of equations with the command solve (). For example, in the case of the previous situation"
      ],
      "metadata": {
        "id": "aGaX5yquyYRr"
      }
    },
    {
      "cell_type": "code",
      "source": [
        "A = np.array([[2,1],[-4,3]])\n",
        "b = np.array([11,3])\n",
        "X = np.linalg.solve(A,b)\n",
        "print(X)"
      ],
      "metadata": {
        "colab": {
          "base_uri": "https://localhost:8080/"
        },
        "id": "52LS39Qsyao4",
        "outputId": "a70dbd4c-7c3f-4bd9-e304-f16782d77745"
      },
      "execution_count": 67,
      "outputs": [
        {
          "output_type": "stream",
          "name": "stdout",
          "text": [
            "[3. 5.]\n"
          ]
        }
      ]
    },
    {
      "cell_type": "markdown",
      "source": [
        "If necessary, the inverse matrix is ​​determined by the command inv () and can be used to check that the solution is correct."
      ],
      "metadata": {
        "id": "OgX2ouR9ym41"
      }
    },
    {
      "cell_type": "code",
      "source": [
        "Ainv = np.linalg.inv(A)\n",
        "print(np.matmul(Ainv,b))"
      ],
      "metadata": {
        "colab": {
          "base_uri": "https://localhost:8080/"
        },
        "id": "CK4SFgBXyoyh",
        "outputId": "2eac9f59-5d11-4b53-d31d-cd85b3ee0c3e"
      },
      "execution_count": 68,
      "outputs": [
        {
          "output_type": "stream",
          "name": "stdout",
          "text": [
            "[3. 5.]\n"
          ]
        }
      ]
    },
    {
      "cell_type": "markdown",
      "source": [
        "# Statistical Functions"
      ],
      "metadata": {
        "id": "zwKrN_yYywQP"
      }
    },
    {
      "cell_type": "markdown",
      "source": [
        "Many statistical indicators can be calculated from the numerical values in the table. The sum is calculated with the command sum (), which can optionally be given as the second argument the number of the axis over which the sum is calculated. E.g."
      ],
      "metadata": {
        "id": "CO75xQhhy2Td"
      }
    },
    {
      "cell_type": "code",
      "source": [
        "A = np.array([[1,2,3],[4,5,6]])\n",
        "np.sum(A)\n"
      ],
      "metadata": {
        "colab": {
          "base_uri": "https://localhost:8080/"
        },
        "id": "tCkDDN_xy4am",
        "outputId": "c0955807-950a-49c5-c3cd-2871d6b465d2"
      },
      "execution_count": 70,
      "outputs": [
        {
          "output_type": "execute_result",
          "data": {
            "text/plain": [
              "21"
            ]
          },
          "metadata": {},
          "execution_count": 70
        }
      ]
    },
    {
      "cell_type": "code",
      "source": [
        "np.sum(A,0) # column sums, summed along rows\n"
      ],
      "metadata": {
        "colab": {
          "base_uri": "https://localhost:8080/"
        },
        "id": "qktX0uWdy7_v",
        "outputId": "79f6e55b-b359-4bd1-dac5-86ae286999e7"
      },
      "execution_count": 71,
      "outputs": [
        {
          "output_type": "execute_result",
          "data": {
            "text/plain": [
              "array([5, 7, 9])"
            ]
          },
          "metadata": {},
          "execution_count": 71
        }
      ]
    },
    {
      "cell_type": "code",
      "source": [
        "np.sum(A,1) # row sums, summed along the columns"
      ],
      "metadata": {
        "colab": {
          "base_uri": "https://localhost:8080/"
        },
        "id": "uI9UIJWUy97B",
        "outputId": "6b00e2f5-0fb0-4d00-cea2-011b0533d692"
      },
      "execution_count": 72,
      "outputs": [
        {
          "output_type": "execute_result",
          "data": {
            "text/plain": [
              "array([ 6, 15])"
            ]
          },
          "metadata": {},
          "execution_count": 72
        }
      ]
    },
    {
      "cell_type": "markdown",
      "source": [
        "The product is calculated similarly with the prod () command."
      ],
      "metadata": {
        "id": "0s7q317rzJLS"
      }
    },
    {
      "cell_type": "code",
      "source": [
        "np.prod(A)\n"
      ],
      "metadata": {
        "colab": {
          "base_uri": "https://localhost:8080/"
        },
        "id": "KoBIm7lkzLo-",
        "outputId": "3abb002b-85b1-4b74-9ad0-811338e9aabf"
      },
      "execution_count": 74,
      "outputs": [
        {
          "output_type": "execute_result",
          "data": {
            "text/plain": [
              "720"
            ]
          },
          "metadata": {},
          "execution_count": 74
        }
      ]
    },
    {
      "cell_type": "code",
      "source": [
        "np.prod(A,0)\n"
      ],
      "metadata": {
        "colab": {
          "base_uri": "https://localhost:8080/"
        },
        "id": "6p8wfc5zzOm2",
        "outputId": "475aba97-5fe3-4347-d7c3-dd5d8e32beef"
      },
      "execution_count": 75,
      "outputs": [
        {
          "output_type": "execute_result",
          "data": {
            "text/plain": [
              "array([ 4, 10, 18])"
            ]
          },
          "metadata": {},
          "execution_count": 75
        }
      ]
    },
    {
      "cell_type": "code",
      "source": [
        "np.prod(A,1)"
      ],
      "metadata": {
        "colab": {
          "base_uri": "https://localhost:8080/"
        },
        "id": "sWCRsrUszPpK",
        "outputId": "abca239d-5ffe-4a14-a315-8a9a475da272"
      },
      "execution_count": 76,
      "outputs": [
        {
          "output_type": "execute_result",
          "data": {
            "text/plain": [
              "array([  6, 120])"
            ]
          },
          "metadata": {},
          "execution_count": 76
        }
      ]
    },
    {
      "cell_type": "markdown",
      "source": [
        "There are also cumulative variants cumsum () and cumprod () for sum and result.\n",
        "\n",
        "The largest and smallest elements are found with the min () / max () commands. E.g."
      ],
      "metadata": {
        "id": "G2_TlmjhzX5-"
      }
    },
    {
      "cell_type": "code",
      "source": [
        "np.min(A)\n",
        "np.min(A,0)\n",
        "np.min(A,1)\n",
        "np.max(A)\n",
        "np.max(A,0)\n",
        "np.max(A,1)"
      ],
      "metadata": {
        "colab": {
          "base_uri": "https://localhost:8080/"
        },
        "id": "Wwu57b2GzZzm",
        "outputId": "e6735325-a217-45c5-fb15-6a2101b55adf"
      },
      "execution_count": 77,
      "outputs": [
        {
          "output_type": "execute_result",
          "data": {
            "text/plain": [
              "array([3, 6])"
            ]
          },
          "metadata": {},
          "execution_count": 77
        }
      ]
    },
    {
      "cell_type": "markdown",
      "source": [
        "The average of the elements is calculated with the function mean (), which can also be assigned to a specific axis."
      ],
      "metadata": {
        "id": "ZaMbVLaKzgil"
      }
    },
    {
      "cell_type": "code",
      "source": [
        "A = np.array([[1,2,3],[4,5,6]])"
      ],
      "metadata": {
        "id": "GMh6kvUAzms3"
      },
      "execution_count": 80,
      "outputs": []
    },
    {
      "cell_type": "code",
      "source": [
        "np.mean(A)\n"
      ],
      "metadata": {
        "colab": {
          "base_uri": "https://localhost:8080/"
        },
        "id": "4CApRNSAzif-",
        "outputId": "cf21eda9-35c9-4082-f49c-34a98ab09f6f"
      },
      "execution_count": 81,
      "outputs": [
        {
          "output_type": "execute_result",
          "data": {
            "text/plain": [
              "3.5"
            ]
          },
          "metadata": {},
          "execution_count": 81
        }
      ]
    },
    {
      "cell_type": "code",
      "source": [
        "np.mean(A,0)\n"
      ],
      "metadata": {
        "colab": {
          "base_uri": "https://localhost:8080/"
        },
        "id": "AXEnuHbKzpPN",
        "outputId": "9c05aa44-a2cd-4f8f-c4de-1f66dcfb92f0"
      },
      "execution_count": 82,
      "outputs": [
        {
          "output_type": "execute_result",
          "data": {
            "text/plain": [
              "array([2.5, 3.5, 4.5])"
            ]
          },
          "metadata": {},
          "execution_count": 82
        }
      ]
    },
    {
      "cell_type": "code",
      "source": [
        "np.mean(A,1)"
      ],
      "metadata": {
        "colab": {
          "base_uri": "https://localhost:8080/"
        },
        "id": "hg6QicWKzqIS",
        "outputId": "7a8ca818-6dd0-469a-a683-e4f82c1887fc"
      },
      "execution_count": 83,
      "outputs": [
        {
          "output_type": "execute_result",
          "data": {
            "text/plain": [
              "array([2., 5.])"
            ]
          },
          "metadata": {},
          "execution_count": 83
        }
      ]
    },
    {
      "cell_type": "markdown",
      "source": [
        "The median, ie the \"middle\" value of the numerical values, is determined by the function median ()"
      ],
      "metadata": {
        "id": "3SmbDKFKzt-s"
      }
    },
    {
      "cell_type": "code",
      "source": [
        "np.median(A)\n"
      ],
      "metadata": {
        "colab": {
          "base_uri": "https://localhost:8080/"
        },
        "id": "cZ4OvzFgzvmy",
        "outputId": "c61bcd0f-fba4-4396-db2c-0f9062201267"
      },
      "execution_count": 84,
      "outputs": [
        {
          "output_type": "execute_result",
          "data": {
            "text/plain": [
              "3.5"
            ]
          },
          "metadata": {},
          "execution_count": 84
        }
      ]
    },
    {
      "cell_type": "code",
      "source": [
        "np.median(A,0)\n"
      ],
      "metadata": {
        "colab": {
          "base_uri": "https://localhost:8080/"
        },
        "id": "wCmtIzuyzwui",
        "outputId": "8f3c5877-2cff-4c7b-c3c4-6486530971d9"
      },
      "execution_count": 85,
      "outputs": [
        {
          "output_type": "execute_result",
          "data": {
            "text/plain": [
              "array([2.5, 3.5, 4.5])"
            ]
          },
          "metadata": {},
          "execution_count": 85
        }
      ]
    },
    {
      "cell_type": "code",
      "source": [
        "np.median(A,1)"
      ],
      "metadata": {
        "colab": {
          "base_uri": "https://localhost:8080/"
        },
        "id": "rUOoaNX1zxyw",
        "outputId": "ca18c48d-2505-457a-844e-fac4ea0741be"
      },
      "execution_count": 86,
      "outputs": [
        {
          "output_type": "execute_result",
          "data": {
            "text/plain": [
              "array([2., 5.])"
            ]
          },
          "metadata": {},
          "execution_count": 86
        }
      ]
    },
    {
      "cell_type": "markdown",
      "source": [
        "The variance and its standard root deviation measure how far the numbers are from their mean. For these, there are functions var () and std ()"
      ],
      "metadata": {
        "id": "84nQKsHYz0-q"
      }
    },
    {
      "cell_type": "code",
      "source": [
        "np.std(A)\n",
        "np.std(A,0)\n",
        "np.std(A,1)\n",
        "np.var(A)\n",
        "np.var(A,0)\n",
        "np.var(A,1)"
      ],
      "metadata": {
        "colab": {
          "base_uri": "https://localhost:8080/"
        },
        "id": "l6axHeX8z2wS",
        "outputId": "521d8416-031e-41b6-efe1-c4100520a4c3"
      },
      "execution_count": 87,
      "outputs": [
        {
          "output_type": "execute_result",
          "data": {
            "text/plain": [
              "array([0.66666667, 0.66666667])"
            ]
          },
          "metadata": {},
          "execution_count": 87
        }
      ]
    },
    {
      "cell_type": "markdown",
      "source": [
        "# About Data Types"
      ],
      "metadata": {
        "id": "jAkX_zl2z9-v"
      }
    },
    {
      "cell_type": "markdown",
      "source": [
        "The numpy library supports the following key data types: int8, int16, int32, int64, float16, float32, float64, uint8, uint16, uint32, uint64,  where numbers indicate the number of bits used and uint means an unsigned integer.\n",
        "\n",
        "These can be specified when creating a table so that the items in the table are of the desired data type. E.g."
      ],
      "metadata": {
        "id": "r50VgsaW0CR5"
      }
    },
    {
      "cell_type": "code",
      "source": [
        "A = np.array([1,2,3,4,5,6],dtype=\"int8\")"
      ],
      "metadata": {
        "id": "9JnGai9M0Arv"
      },
      "execution_count": 89,
      "outputs": []
    },
    {
      "cell_type": "markdown",
      "source": [
        "The data type of the table can be checked with the dtype attribute. E.g."
      ],
      "metadata": {
        "id": "Ym3MCGL-0GVL"
      }
    },
    {
      "cell_type": "code",
      "source": [
        "A.dtype"
      ],
      "metadata": {
        "colab": {
          "base_uri": "https://localhost:8080/"
        },
        "id": "Uww-ZOsF0H6K",
        "outputId": "8d522521-faf4-4751-a36c-df19275ca808"
      },
      "execution_count": 90,
      "outputs": [
        {
          "output_type": "execute_result",
          "data": {
            "text/plain": [
              "dtype('int8')"
            ]
          },
          "metadata": {},
          "execution_count": 90
        }
      ]
    },
    {
      "cell_type": "markdown",
      "source": [
        "Tables can be converted from one data type to another with the astype () command, which is given a new data type parameter as a string. E.g.\n",
        "\n"
      ],
      "metadata": {
        "id": "a1vxXTv60sRA"
      }
    },
    {
      "cell_type": "code",
      "source": [
        "A.astype(\"int16\")"
      ],
      "metadata": {
        "colab": {
          "base_uri": "https://localhost:8080/"
        },
        "id": "GmRYOmiA0uQ_",
        "outputId": "599fc2f5-4da9-4cd2-a812-ea249a240f68"
      },
      "execution_count": 91,
      "outputs": [
        {
          "output_type": "execute_result",
          "data": {
            "text/plain": [
              "array([1, 2, 3, 4, 5, 6], dtype=int16)"
            ]
          },
          "metadata": {},
          "execution_count": 91
        }
      ]
    },
    {
      "cell_type": "markdown",
      "source": [
        "The type of data is important for memory usage (at least in critical applications), as presenting numbers with a smaller number of bits can save memory. On the flip side, large numbers cannot be represented by a small number of bits. The amount of memory required by a table element in bytes (!) Is determined by the itemsize attribute, in which case the memory required by the entire table is the same as A.itemsize * A.size or A.nbytes. E.g"
      ],
      "metadata": {
        "id": "P5a5mtrl0xsJ"
      }
    },
    {
      "cell_type": "code",
      "source": [
        "A.itemsize\n"
      ],
      "metadata": {
        "colab": {
          "base_uri": "https://localhost:8080/"
        },
        "id": "V38NSST506ri",
        "outputId": "5baaa807-2c3c-4d59-eaf8-3a237a25431d"
      },
      "execution_count": 92,
      "outputs": [
        {
          "output_type": "execute_result",
          "data": {
            "text/plain": [
              "1"
            ]
          },
          "metadata": {},
          "execution_count": 92
        }
      ]
    },
    {
      "cell_type": "code",
      "source": [
        "A.nbytes\n"
      ],
      "metadata": {
        "colab": {
          "base_uri": "https://localhost:8080/"
        },
        "id": "xFTtPMrl1BbQ",
        "outputId": "793044a0-ac34-4815-f65e-a03fc640abf5"
      },
      "execution_count": 93,
      "outputs": [
        {
          "output_type": "execute_result",
          "data": {
            "text/plain": [
              "6"
            ]
          },
          "metadata": {},
          "execution_count": 93
        }
      ]
    },
    {
      "cell_type": "code",
      "source": [
        "A2 = np.array([1,2,3,4,5,6],dtype=\"int64\")\n"
      ],
      "metadata": {
        "id": "aOMWdXEm1Div"
      },
      "execution_count": 94,
      "outputs": []
    },
    {
      "cell_type": "code",
      "source": [
        "A2.nbytes"
      ],
      "metadata": {
        "colab": {
          "base_uri": "https://localhost:8080/"
        },
        "id": "B_JnygS91GAN",
        "outputId": "ea4bba9d-9f23-4a62-cddd-9bfbd16145c4"
      },
      "execution_count": 95,
      "outputs": [
        {
          "output_type": "execute_result",
          "data": {
            "text/plain": [
              "48"
            ]
          },
          "metadata": {},
          "execution_count": 95
        }
      ]
    },
    {
      "cell_type": "markdown",
      "source": [
        "Notice how presenting the same information with a different data type can take up to eight times more memory space! This already matters if the table is hundreds of megabytes in size, not to mention gigabytes.\n",
        "\n",
        "With an unsigned integer type (uint), you should be careful, because when it encounters a negative number, an underflow occurs and the results can be catastrophic."
      ],
      "metadata": {
        "id": "H99GlMPL1RqQ"
      }
    },
    {
      "cell_type": "code",
      "source": [
        "A = np.array([1,2,3,4,5,6],dtype=\"uint8\")\n",
        "A-7"
      ],
      "metadata": {
        "colab": {
          "base_uri": "https://localhost:8080/"
        },
        "id": "VtQQaRJ41T0D",
        "outputId": "97d48cb3-782f-435c-842b-1d5f62deb456"
      },
      "execution_count": 96,
      "outputs": [
        {
          "output_type": "execute_result",
          "data": {
            "text/plain": [
              "array([250, 251, 252, 253, 254, 255], dtype=uint8)"
            ]
          },
          "metadata": {},
          "execution_count": 96
        }
      ]
    },
    {
      "cell_type": "markdown",
      "source": [
        "However, the advantage of the uint type is that the same number of bits can represent twice as many positive numbers as the int type, because the int type prepares to handle roughly the same number of negative and positive numbers. The range of figures that can be displayed for different data types is shown in the following table.\n",
        "\n",
        "\n",
        "| Data Type  | Minimum Value             | Maximum Value               |\n",
        "|------------|---------------------------|-----------------------------|\n",
        "| **int8**   | -128                      | 127                         |\n",
        "| **int16**  | -32,768                   | 32,767                      |\n",
        "| **int32**  | -2,147,483,648            | 2,147,483,647               |\n",
        "| **int64**  | -9,223,372,036,854,775,808| 9,223,372,036,854,775,807   |\n",
        "| **uint8**  | 0                         | 255                         |\n",
        "| **uint16** | 0                         | 65,535                      |\n",
        "| **uint32** | 0                         | 4,294,967,295               |\n",
        "| **uint64** | 0                         | 18,446,744,073,709,551,615  |\n",
        "\n",
        "\n",
        "\n",
        "In normal programming, there is usually no need to care about the type of data, but at some point it is good to be at least aware of this at some point.\n",
        "\n",
        "Complete documentation on data types can be found at\n",
        "\n",
        "https://numpy.org/doc/stable/reference/arrays.dtypes.html\n",
        "\n",
        "There is another thing about floating point types that every programmer should be aware of. Namely, between 0..1 there are infinitely many decimal numbers. Because the computer uses only a finite number of bits to display floating-point numbers, some floating-point numbers must be displayed inaccurately. For example, the number 1/3 cannot be represented as a ending decimal representation. Thus, an approximation is used to present it, which can be accurately represented. This approximation is"
      ],
      "metadata": {
        "id": "qy__7xIV1aGf"
      }
    },
    {
      "cell_type": "code",
      "source": [
        "print(str.format('{0:.25f}', 1/3))\n"
      ],
      "metadata": {
        "colab": {
          "base_uri": "https://localhost:8080/"
        },
        "id": "gm5fZ9ss1bA0",
        "outputId": "52bfb2e6-7db6-473e-eaf2-95d0ecd2b82e"
      },
      "execution_count": 98,
      "outputs": [
        {
          "output_type": "stream",
          "name": "stdout",
          "text": [
            "0.3333333333333333148296163\n"
          ]
        }
      ]
    },
    {
      "cell_type": "markdown",
      "source": [
        "Another example of the same phenomenon is summation"
      ],
      "metadata": {
        "id": "qEaHFX0q196S"
      }
    },
    {
      "cell_type": "code",
      "source": [
        "0.1+0.1+0.1+0.1+0.1+0.1+0.1+0.1"
      ],
      "metadata": {
        "colab": {
          "base_uri": "https://localhost:8080/"
        },
        "id": "KGpZRGHu1_9v",
        "outputId": "985f388c-18db-4889-b7a5-96e92dcf10d8"
      },
      "execution_count": 99,
      "outputs": [
        {
          "output_type": "execute_result",
          "data": {
            "text/plain": [
              "0.7999999999999999"
            ]
          },
          "metadata": {},
          "execution_count": 99
        }
      ]
    },
    {
      "cell_type": "markdown",
      "source": [
        "Now the reason is that the number 0.1 cannot be represented as a finite bit string exactly, but we have to use approximations inside the computer:"
      ],
      "metadata": {
        "id": "AmFImb6K2EwH"
      }
    },
    {
      "cell_type": "code",
      "source": [
        "print(str.format('{0:.25f}', 0.1))"
      ],
      "metadata": {
        "colab": {
          "base_uri": "https://localhost:8080/"
        },
        "id": "VIJTGBgB2I-R",
        "outputId": "65af92b4-1674-49eb-f097-55b308a10aae"
      },
      "execution_count": 100,
      "outputs": [
        {
          "output_type": "stream",
          "name": "stdout",
          "text": [
            "0.1000000000000000055511151\n"
          ]
        }
      ]
    },
    {
      "cell_type": "markdown",
      "source": [
        "That is: when calculating with floating-point numbers, you have to deal with such rounding errors.\n",
        "\n",
        "It is convenient to present large and small floating-point numbers with scientific notation. The presentation is e.g.\n",
        "\n",
        "1.0e+10\n",
        "\n",
        "meaning the number 1.0 * 10 ** 10 or 10 ** 10 or 10000000. Similarly, e.g. 1.23e-5 means the number 1.23 * 10 ** (- 5) or 0.0000123. If such an exponential representation were not used, then we would have to read a long series of numbers such as\n",
        "\n",
        "123000000000000000000000000000\n",
        "\n",
        "which is not very friendly to the human eye.\n",
        "\n"
      ],
      "metadata": {
        "id": "KPBVubs-2KbI"
      }
    }
  ]
}