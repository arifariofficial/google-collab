{
  "nbformat": 4,
  "nbformat_minor": 0,
  "metadata": {
    "colab": {
      "provenance": [],
      "authorship_tag": "ABX9TyNed95+mUnAyKrp4eMk4hRf",
      "include_colab_link": true
    },
    "kernelspec": {
      "name": "python3",
      "display_name": "Python 3"
    },
    "language_info": {
      "name": "python"
    }
  },
  "cells": [
    {
      "cell_type": "markdown",
      "metadata": {
        "id": "view-in-github",
        "colab_type": "text"
      },
      "source": [
        "<a href=\"https://colab.research.google.com/github/arifariofficial/google-collab/blob/main/voipe_ai_metropolia.ipynb\" target=\"_parent\"><img src=\"https://colab.research.google.com/assets/colab-badge.svg\" alt=\"Open In Colab\"/></a>"
      ]
    },
    {
      "cell_type": "markdown",
      "source": [
        "# Numpy and Arrays"
      ],
      "metadata": {
        "id": "_6udIPE1BP0R"
      }
    },
    {
      "cell_type": "markdown",
      "source": [
        "Array is created with the array () command, which passes items as a list (one-dimensional table) or as a list of lists (two-dimensional and multi-dimensional tables). E.g."
      ],
      "metadata": {
        "id": "LObXObqqBeZA"
      }
    },
    {
      "cell_type": "code",
      "source": [
        "import numpy as np\n",
        "x = np.array([1,3,4,5])\n",
        "A = np.array([[1,3],[4,5]])"
      ],
      "metadata": {
        "id": "OY9cHrVsBjsn"
      },
      "execution_count": 1,
      "outputs": []
    },
    {
      "cell_type": "markdown",
      "source": [
        "Arrays in Numpy has a shape, which indicates the number of elements in the table along each axis as a plural (tuple). E.g."
      ],
      "metadata": {
        "id": "kuO8WJWYBpOT"
      }
    },
    {
      "cell_type": "code",
      "source": [
        "np.shape(x)\n",
        "np.shape(A)"
      ],
      "metadata": {
        "colab": {
          "base_uri": "https://localhost:8080/"
        },
        "id": "SF4qOC1_BqPh",
        "outputId": "4e64760c-607c-46c2-ec99-ff004b0777a8"
      },
      "execution_count": 2,
      "outputs": [
        {
          "output_type": "execute_result",
          "data": {
            "text/plain": [
              "(2, 2)"
            ]
          },
          "metadata": {},
          "execution_count": 2
        }
      ]
    },
    {
      "cell_type": "markdown",
      "source": [
        "It is not appropriate to create large arrays with square brackets. Instead, arrays can be easily created to the desired size with the functions zeros (), ones (), and full (), to which information about the size of the array is conveyed as a plural. E.g."
      ],
      "metadata": {
        "id": "vZJII4h6B6GQ"
      }
    },
    {
      "cell_type": "code",
      "source": [
        "Z = np.zeros(5)\n",
        "print(Z)\n",
        "np.shape(Z)\n",
        "Z2 = np.zeros((4,5)) # notice doulbe pracets\n",
        "print(Z2)\n",
        "np.shape(Z2)\n",
        "Y = np.ones((2,3))\n",
        "print(Y)\n",
        "F=np.full((7,8),11)"
      ],
      "metadata": {
        "colab": {
          "base_uri": "https://localhost:8080/"
        },
        "id": "fdjeh1mBB9L6",
        "outputId": "0c0e3df9-2a25-4fc9-c46f-b01ba277b512"
      },
      "execution_count": 3,
      "outputs": [
        {
          "output_type": "stream",
          "name": "stdout",
          "text": [
            "[0. 0. 0. 0. 0.]\n",
            "[[0. 0. 0. 0. 0.]\n",
            " [0. 0. 0. 0. 0.]\n",
            " [0. 0. 0. 0. 0.]\n",
            " [0. 0. 0. 0. 0.]]\n",
            "[[1. 1. 1.]\n",
            " [1. 1. 1.]]\n"
          ]
        }
      ]
    },
    {
      "cell_type": "markdown",
      "source": [
        "Evenly spaced numbers can be easily generated with the linspace () and arange () functions. linspace () works by passing  an initial value, an end value, and the number of elements to it. E.g."
      ],
      "metadata": {
        "id": "sNnTn0KsCJqK"
      }
    },
    {
      "cell_type": "code",
      "source": [
        "x = np.linspace(0,5,10)\n",
        "print(x)"
      ],
      "metadata": {
        "colab": {
          "base_uri": "https://localhost:8080/"
        },
        "id": "qrhwq7xaCMEm",
        "outputId": "b891140b-2950-4fbd-f875-b8702e86f7bc"
      },
      "execution_count": 4,
      "outputs": [
        {
          "output_type": "stream",
          "name": "stdout",
          "text": [
            "[0.         0.55555556 1.11111111 1.66666667 2.22222222 2.77777778\n",
            " 3.33333333 3.88888889 4.44444444 5.        ]\n"
          ]
        }
      ]
    },
    {
      "cell_type": "markdown",
      "source": [
        "The result is thus 10 elements between the start and end values, including the endpoints. arange () in turn takes the step length as the third parameter. E.g."
      ],
      "metadata": {
        "id": "ab0zo_xtCbob"
      }
    },
    {
      "cell_type": "code",
      "source": [
        "x2 = np.arange(0,5,0.2)\n",
        "print(x2)"
      ],
      "metadata": {
        "colab": {
          "base_uri": "https://localhost:8080/"
        },
        "id": "LT9T3DHLCf3r",
        "outputId": "44829e5e-48df-4286-d3a7-969af54d3b23"
      },
      "execution_count": 5,
      "outputs": [
        {
          "output_type": "stream",
          "name": "stdout",
          "text": [
            "[0.  0.2 0.4 0.6 0.8 1.  1.2 1.4 1.6 1.8 2.  2.2 2.4 2.6 2.8 3.  3.2 3.4\n",
            " 3.6 3.8 4.  4.2 4.4 4.6 4.8]\n"
          ]
        }
      ]
    },
    {
      "cell_type": "markdown",
      "source": [
        "Note that an array created with arange () does not reach a final value (so it works like range ()).\n",
        "\n",
        "Random integers ) between [a, b] can be generated with the command randint (), i.e.\n",
        "\n"
      ],
      "metadata": {
        "id": "RGJXuyI4CnFX"
      }
    },
    {
      "cell_type": "code",
      "source": [
        "a = 1\n",
        "b = 6\n",
        "amount = 50\n",
        "nopat = np.random.randint(a,b+1,amount)\n",
        "print(nopat)"
      ],
      "metadata": {
        "colab": {
          "base_uri": "https://localhost:8080/"
        },
        "id": "8etdtjAgCrCx",
        "outputId": "9bf38471-88b8-450e-8681-2904bcce12d0"
      },
      "execution_count": 8,
      "outputs": [
        {
          "output_type": "stream",
          "name": "stdout",
          "text": [
            "[2 1 5 2 6 4 3 1 5 5 1 6 4 3 6 3 5 3 5 5 4 6 4 5 1 2 5 5 4 3 1 3 1 3 3 3 3\n",
            " 6 2 6 6 6 4 3 6 5 3 6 6 3]\n"
          ]
        }
      ]
    },
    {
      "cell_type": "markdown",
      "source": [
        "Note how the endpoint is not included here, so the second parameter must be b + 1. Normally distributed random numbers are obtained with the command randn (n), where n indicates the amount of numbers to be generated."
      ],
      "metadata": {
        "id": "tqJAoF5XC8Gq"
      }
    },
    {
      "cell_type": "code",
      "source": [
        "x = np.random.randn(100)\n",
        "print(x)"
      ],
      "metadata": {
        "colab": {
          "base_uri": "https://localhost:8080/"
        },
        "id": "pYn0Pn31DIfj",
        "outputId": "96ecf45c-f454-4e47-8d5e-b263c0a49ced"
      },
      "execution_count": 10,
      "outputs": [
        {
          "output_type": "stream",
          "name": "stdout",
          "text": [
            "[-0.12207751 -1.03054963 -0.43719322  0.66125251  0.25367787 -0.24504387\n",
            " -0.196559    0.5697133   0.88038722  0.37992511 -0.40925758 -0.33593796\n",
            "  1.04597755 -0.21608818  0.24546013  0.78679044  1.45415473 -1.10341216\n",
            " -0.65105654  0.57618414 -0.10245494 -0.31945751 -0.17198758  2.70137003\n",
            "  0.07683828 -0.04186702 -2.02236839  1.07534315  0.13329479 -0.22704565\n",
            " -1.27773435 -0.64772401  1.64031952  1.77176433 -1.24913805  1.73868387\n",
            " -1.76481573  0.57080288 -1.22861503  0.6743565  -0.51390583 -0.2533642\n",
            "  0.43745178 -1.49230157 -0.56711418  0.95965269  0.38359673 -1.75311741\n",
            " -1.64109225 -0.12333003 -0.0818882   0.32977729  0.05819244 -0.58633599\n",
            "  0.13975436  0.7635825   0.60616957  0.91144477  0.44008056  1.17071319\n",
            " -1.10534187 -2.20117458 -0.84398515  0.19047511 -0.34702168 -1.12040301\n",
            "  1.60602626 -1.26097495  0.10577037  0.58458622  0.26044304  0.81964497\n",
            "  0.54114533  1.38498521 -0.37084271  2.45436748 -1.2269657   0.17376901\n",
            "  0.02425554  0.53911048 -1.26629042 -0.46660322 -0.51286267 -0.28854448\n",
            "  0.15356306  0.06977328  0.12140001 -0.05922742 -1.35723716 -0.11935765\n",
            " -1.17009512  1.76876949 -0.10187338 -1.03273529  0.5025873   1.00587568\n",
            "  0.5545855   0.4177157  -0.11339556 -0.52046008]\n"
          ]
        }
      ]
    },
    {
      "cell_type": "markdown",
      "source": [
        "The random () command produces random numbers evenly distributed over a semi-open interval [0.0, 1.0). So these are decimal numbers. E.g."
      ],
      "metadata": {
        "id": "NCLGdYHxDV7C"
      }
    },
    {
      "cell_type": "code",
      "source": [
        "x = np.random.random(10)\n",
        "print(x)"
      ],
      "metadata": {
        "colab": {
          "base_uri": "https://localhost:8080/"
        },
        "id": "vKewHFvYDbz5",
        "outputId": "fb272426-8feb-4105-cead-a0ea91203f85"
      },
      "execution_count": 12,
      "outputs": [
        {
          "output_type": "stream",
          "name": "stdout",
          "text": [
            "[0.34684596 0.41573384 0.87357224 0.01526896 0.07973752 0.80508313\n",
            " 0.3435736  0.39690341 0.24704133 0.53040814]\n"
          ]
        }
      ]
    },
    {
      "cell_type": "markdown",
      "source": [
        "The numbers of dimensions and elements in the table are determined by the attributes ndim and size. E.g."
      ],
      "metadata": {
        "id": "AqnUtPq9DzGk"
      }
    },
    {
      "cell_type": "code",
      "source": [
        "x.size\n",
        "x.ndim\n",
        "A.size\n",
        "A.ndim"
      ],
      "metadata": {
        "colab": {
          "base_uri": "https://localhost:8080/"
        },
        "id": "ADR9ByX5DcTv",
        "outputId": "c5be85a9-3a56-4340-f7ac-3daf300007b9"
      },
      "execution_count": 13,
      "outputs": [
        {
          "output_type": "execute_result",
          "data": {
            "text/plain": [
              "2"
            ]
          },
          "metadata": {},
          "execution_count": 13
        }
      ]
    },
    {
      "cell_type": "markdown",
      "source": [
        "# Cutting Matrices (indexing)"
      ],
      "metadata": {
        "id": "8tQ9LUQeEW2I"
      }
    },
    {
      "cell_type": "markdown",
      "source": [
        "Cutting a one-dimensional array is done in the usual way with square brackets by indexing. Remember that places are indexed from zero!\n",
        "\n",
        "The two-dimensional array is indexed (cut) by two indexes within one square bracket:"
      ],
      "metadata": {
        "id": "PjrCiVPOEcKl"
      }
    },
    {
      "cell_type": "code",
      "source": [
        "A = np.array([[1,2,3],[4,5,6]])\n",
        "print(A[0,0])\n",
        "print(A[0,1])"
      ],
      "metadata": {
        "colab": {
          "base_uri": "https://localhost:8080/"
        },
        "id": "yjY2d2EfEd7Z",
        "outputId": "4a2b704c-05f1-4faf-cf00-2608b007a705"
      },
      "execution_count": 15,
      "outputs": [
        {
          "output_type": "stream",
          "name": "stdout",
          "text": [
            "1\n",
            "2\n"
          ]
        }
      ]
    },
    {
      "cell_type": "markdown",
      "source": [
        "The three-dimensional array is cut with three indexes, respectively.\n",
        "\n",
        "A negative index works in the same way as with lists, i.e. it counts from the end. A colon is used to cut an entire row or column. E.g."
      ],
      "metadata": {
        "id": "yshTYVZ2Ew8P"
      }
    },
    {
      "cell_type": "code",
      "source": [
        "A[:,0] # fisrt column, \":\"reads all rows"
      ],
      "metadata": {
        "colab": {
          "base_uri": "https://localhost:8080/"
        },
        "id": "N6D_ptclEyLc",
        "outputId": "70cb2b27-bd43-472e-ee5c-f0b327f6f372"
      },
      "execution_count": 16,
      "outputs": [
        {
          "output_type": "execute_result",
          "data": {
            "text/plain": [
              "array([1, 4])"
            ]
          },
          "metadata": {},
          "execution_count": 16
        }
      ]
    },
    {
      "cell_type": "code",
      "source": [
        "A[0,:] # first row, \":\" reads all columns"
      ],
      "metadata": {
        "colab": {
          "base_uri": "https://localhost:8080/"
        },
        "id": "G2iaowHFE8QM",
        "outputId": "a8b00947-d87e-4cb5-ca5e-62061b92e56e"
      },
      "execution_count": 17,
      "outputs": [
        {
          "output_type": "execute_result",
          "data": {
            "text/plain": [
              "array([1, 2, 3])"
            ]
          },
          "metadata": {},
          "execution_count": 17
        }
      ]
    },
    {
      "cell_type": "markdown",
      "source": [
        "The colon can also be used to create index spaces with the start: end: step syntax, so that the intersection no longer targets the end. The index spacing can be used to index both rows and columns. E.g."
      ],
      "metadata": {
        "id": "08vTbd6QHk9C"
      }
    },
    {
      "cell_type": "code",
      "source": [
        "A = np.array([1,2,3,4,5,6,7,8,9])\n",
        "A[0:6:1]\n"
      ],
      "metadata": {
        "colab": {
          "base_uri": "https://localhost:8080/"
        },
        "id": "KQ1SYEmKHsJk",
        "outputId": "444a60a6-81d5-4205-923d-47ea3b48a831"
      },
      "execution_count": 33,
      "outputs": [
        {
          "output_type": "execute_result",
          "data": {
            "text/plain": [
              "array([1, 2, 3, 4, 5, 6])"
            ]
          },
          "metadata": {},
          "execution_count": 33
        }
      ]
    },
    {
      "cell_type": "code",
      "source": [
        "# start = 0, end = 9, step = 3\n",
        "A[0:9:3]\n"
      ],
      "metadata": {
        "colab": {
          "base_uri": "https://localhost:8080/"
        },
        "id": "vujFu4h7H67A",
        "outputId": "ea315e6d-34c3-4a6c-e355-623e54502ac7"
      },
      "execution_count": 35,
      "outputs": [
        {
          "output_type": "execute_result",
          "data": {
            "text/plain": [
              "array([1, 4, 7])"
            ]
          },
          "metadata": {},
          "execution_count": 35
        }
      ]
    },
    {
      "cell_type": "markdown",
      "source": [
        "Items can be updated with a combination of an signing statement and a cut. E.g."
      ],
      "metadata": {
        "id": "tWI8Jgp1J7bP"
      }
    },
    {
      "cell_type": "code",
      "source": [
        "A = np.array([[1,2,3],[4,5,6]])\n",
        "A[0,0] = 17\n",
        "A[1,:] = [11,12,13]\n",
        "A"
      ],
      "metadata": {
        "colab": {
          "base_uri": "https://localhost:8080/"
        },
        "id": "Np4hMZhaKSUF",
        "outputId": "51810310-7905-4117-ea44-3ee67e607c10"
      },
      "execution_count": 37,
      "outputs": [
        {
          "output_type": "execute_result",
          "data": {
            "text/plain": [
              "array([[17,  2,  3],\n",
              "       [11, 12, 13]])"
            ]
          },
          "metadata": {},
          "execution_count": 37
        }
      ]
    },
    {
      "cell_type": "markdown",
      "source": [
        "Tables can be stacked with the vstack () command. E.g."
      ],
      "metadata": {
        "id": "xvvUZfRGKlNv"
      }
    },
    {
      "cell_type": "code",
      "source": [
        "A = np.array([[1,2,3],[4,5,6]])"
      ],
      "metadata": {
        "id": "JWPrmzoFLGax"
      },
      "execution_count": 41,
      "outputs": []
    },
    {
      "cell_type": "code",
      "source": [
        "new = np.vstack((A,A))\n",
        "new"
      ],
      "metadata": {
        "colab": {
          "base_uri": "https://localhost:8080/"
        },
        "id": "eqXmkliSKnQ9",
        "outputId": "3b4fcd27-c0e8-4d25-f1ef-b16ffc956cb1"
      },
      "execution_count": 42,
      "outputs": [
        {
          "output_type": "execute_result",
          "data": {
            "text/plain": [
              "array([[1, 2, 3],\n",
              "       [4, 5, 6],\n",
              "       [1, 2, 3],\n",
              "       [4, 5, 6]])"
            ]
          },
          "metadata": {},
          "execution_count": 42
        }
      ]
    },
    {
      "cell_type": "markdown",
      "source": [
        "This method can therefore be used to add horizontal rows to the beginning or end of a table. However, stackable tables must be compatible in shape. Horizontal stacking connects tables side by side. E.g."
      ],
      "metadata": {
        "id": "hLFifxPfK6de"
      }
    },
    {
      "cell_type": "code",
      "source": [
        "new2 = np.hstack((A,A))\n",
        "new2"
      ],
      "metadata": {
        "colab": {
          "base_uri": "https://localhost:8080/"
        },
        "id": "y4Sw3ZqHK82m",
        "outputId": "a811b4dd-57ce-44c0-9b8f-69824c7fc9ce"
      },
      "execution_count": 43,
      "outputs": [
        {
          "output_type": "execute_result",
          "data": {
            "text/plain": [
              "array([[1, 2, 3, 1, 2, 3],\n",
              "       [4, 5, 6, 4, 5, 6]])"
            ]
          },
          "metadata": {},
          "execution_count": 43
        }
      ]
    },
    {
      "cell_type": "markdown",
      "source": [
        "Deleting a row and column is done with the delete command, to which information about the index of the row / column to be deleted and the dimension of the deletion operation must be passed (0 = for rows, 1 = for columns)."
      ],
      "metadata": {
        "id": "a4Ifyt2SLR_L"
      }
    },
    {
      "cell_type": "code",
      "source": [
        "A = np.array([[1,2,3],\n",
        "              [4,5,6]])\n",
        "\n",
        "B = np.delete(A,[0],0)\n",
        "B"
      ],
      "metadata": {
        "colab": {
          "base_uri": "https://localhost:8080/"
        },
        "id": "k3JBf4JiLULU",
        "outputId": "d0f5d175-4f93-4796-ae52-0b3cb47de1fc"
      },
      "execution_count": 62,
      "outputs": [
        {
          "output_type": "execute_result",
          "data": {
            "text/plain": [
              "array([[4, 5, 6]])"
            ]
          },
          "metadata": {},
          "execution_count": 62
        }
      ]
    },
    {
      "cell_type": "code",
      "source": [
        "C = np.delete(A,[1],0)\n",
        "C"
      ],
      "metadata": {
        "colab": {
          "base_uri": "https://localhost:8080/"
        },
        "id": "4LQdmU1mNC9W",
        "outputId": "282bb3b1-9d1a-42f4-ed8c-c6a3b14118a0"
      },
      "execution_count": 63,
      "outputs": [
        {
          "output_type": "execute_result",
          "data": {
            "text/plain": [
              "array([[1, 2, 3]])"
            ]
          },
          "metadata": {},
          "execution_count": 63
        }
      ]
    },
    {
      "cell_type": "code",
      "source": [
        "D = np.delete(A,[0],1)\n",
        "D"
      ],
      "metadata": {
        "colab": {
          "base_uri": "https://localhost:8080/"
        },
        "id": "BzHOLs-7N231",
        "outputId": "7484e861-ea7c-4b97-e96b-d13148c8a17d"
      },
      "execution_count": 71,
      "outputs": [
        {
          "output_type": "execute_result",
          "data": {
            "text/plain": [
              "array([[2, 3],\n",
              "       [5, 6]])"
            ]
          },
          "metadata": {},
          "execution_count": 71
        }
      ]
    },
    {
      "cell_type": "markdown",
      "source": [
        "A single item cannot be removed as it would make holes in the matrix.\n",
        "\n",
        "The table can be traversed (iterated) in many different ways. For example, one line at a time"
      ],
      "metadata": {
        "id": "py4ICYokOXIy"
      }
    },
    {
      "cell_type": "code",
      "source": [
        "A = np.array([1,2,3,4,5,6])\n",
        "A = A.reshape(2,3)\n",
        "A\n"
      ],
      "metadata": {
        "colab": {
          "base_uri": "https://localhost:8080/"
        },
        "id": "CxCSKd17OZYC",
        "outputId": "9d814abd-afc5-41a5-dadb-1841f35e66ac"
      },
      "execution_count": 83,
      "outputs": [
        {
          "output_type": "execute_result",
          "data": {
            "text/plain": [
              "array([[1, 2, 3],\n",
              "       [4, 5, 6]])"
            ]
          },
          "metadata": {},
          "execution_count": 83
        }
      ]
    },
    {
      "cell_type": "markdown",
      "source": [
        "Row by row"
      ],
      "metadata": {
        "id": "TOEDWd50PU79"
      }
    },
    {
      "cell_type": "code",
      "source": [
        "n,m = np.shape(A)\n",
        "for i in range(n):\n",
        "    print(\"Row\",i,\"is\",A[i,:])\n"
      ],
      "metadata": {
        "colab": {
          "base_uri": "https://localhost:8080/"
        },
        "id": "ViBBDYQ9Ok1V",
        "outputId": "273bfe26-a602-457f-ce4f-11aa8836b5f0"
      },
      "execution_count": 84,
      "outputs": [
        {
          "output_type": "stream",
          "name": "stdout",
          "text": [
            "Row 0 is [1 2 3]\n",
            "Row 1 is [4 5 6]\n"
          ]
        }
      ]
    },
    {
      "cell_type": "markdown",
      "source": [
        "Column by column"
      ],
      "metadata": {
        "id": "AtmsdtjIPAyl"
      }
    },
    {
      "cell_type": "code",
      "source": [
        "for j in range(m):\n",
        "    print(\"Column\",j,\"is\",A[:,j])"
      ],
      "metadata": {
        "colab": {
          "base_uri": "https://localhost:8080/"
        },
        "id": "mulS_EqUPCrh",
        "outputId": "4cd1da00-ac61-4b4a-8edd-a53111665e9d"
      },
      "execution_count": 85,
      "outputs": [
        {
          "output_type": "stream",
          "name": "stdout",
          "text": [
            "Column 0 is [1 4]\n",
            "Column 1 is [2 5]\n",
            "Column 2 is [3 6]\n"
          ]
        }
      ]
    },
    {
      "cell_type": "markdown",
      "source": [
        "One element at a time"
      ],
      "metadata": {
        "id": "wnaDI7o7PaZl"
      }
    },
    {
      "cell_type": "code",
      "source": [
        "for i in range(n):\n",
        "    for j in range(m):\n",
        "        print(\"Element\",i,j,\"is\",A[i,j])"
      ],
      "metadata": {
        "colab": {
          "base_uri": "https://localhost:8080/"
        },
        "id": "6IXo9FdnPhAK",
        "outputId": "8b28b16d-f5c5-41d8-e2f0-4078149c7ac6"
      },
      "execution_count": 86,
      "outputs": [
        {
          "output_type": "stream",
          "name": "stdout",
          "text": [
            "Element 0 0 is 1\n",
            "Element 0 1 is 2\n",
            "Element 0 2 is 3\n",
            "Element 1 0 is 4\n",
            "Element 1 1 is 5\n",
            "Element 1 2 is 6\n"
          ]
        }
      ]
    },
    {
      "cell_type": "markdown",
      "source": [
        "Another way to iterate the table item by item is to use a single iteration structure. This is especially useful for high-dimension arrays"
      ],
      "metadata": {
        "id": "S0Gw9HrIPqXv"
      }
    },
    {
      "cell_type": "code",
      "source": [
        "for a in np.nditer(A):\n",
        "    print(a)"
      ],
      "metadata": {
        "colab": {
          "base_uri": "https://localhost:8080/"
        },
        "id": "4ilOyZjSPqCP",
        "outputId": "6627c56a-bf65-478d-8c87-e06f04bef253"
      },
      "execution_count": 87,
      "outputs": [
        {
          "output_type": "stream",
          "name": "stdout",
          "text": [
            "1\n",
            "2\n",
            "3\n",
            "4\n",
            "5\n",
            "6\n"
          ]
        }
      ]
    },
    {
      "cell_type": "markdown",
      "source": [
        "Notice how here again the order goes to the lines above (dimension / axis 0)."
      ],
      "metadata": {
        "id": "0lMjn1z8P0Uf"
      }
    }
  ]
}