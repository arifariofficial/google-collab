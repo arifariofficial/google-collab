{
  "nbformat": 4,
  "nbformat_minor": 0,
  "metadata": {
    "colab": {
      "provenance": [],
      "gpuType": "T4",
      "authorship_tag": "ABX9TyMHFcvMISPMGnswFDASPnZl",
      "include_colab_link": true
    },
    "kernelspec": {
      "name": "python3",
      "display_name": "Python 3"
    },
    "language_info": {
      "name": "python"
    },
    "accelerator": "GPU"
  },
  "cells": [
    {
      "cell_type": "markdown",
      "metadata": {
        "id": "view-in-github",
        "colab_type": "text"
      },
      "source": [
        "<a href=\"https://colab.research.google.com/github/arifariofficial/google-collab/blob/main/PyTorch_advance.ipynb\" target=\"_parent\"><img src=\"https://colab.research.google.com/assets/colab-badge.svg\" alt=\"Open In Colab\"/></a>"
      ]
    },
    {
      "cell_type": "code",
      "execution_count": 2,
      "metadata": {
        "id": "bLqEAUICt6ye"
      },
      "outputs": [],
      "source": [
        "import torch\n",
        "import torch.nn as nn\n",
        "import torch.optim as optim\n",
        "from torch.utils.data import Dataset, DataLoader\n"
      ]
    },
    {
      "cell_type": "code",
      "source": [
        "print(\"PyTorch version:\", torch.__version__)\n"
      ],
      "metadata": {
        "colab": {
          "base_uri": "https://localhost:8080/"
        },
        "id": "RwKxeUE2vC3H",
        "outputId": "cc51f671-4d86-4bd3-b021-11b10e1c9575"
      },
      "execution_count": 3,
      "outputs": [
        {
          "output_type": "stream",
          "name": "stdout",
          "text": [
            "PyTorch version: 2.5.1+cu121\n"
          ]
        }
      ]
    },
    {
      "cell_type": "markdown",
      "source": [
        "###  Build a Deeper Neural Network"
      ],
      "metadata": {
        "id": "UHqeMU7ovO6m"
      }
    },
    {
      "cell_type": "markdown",
      "source": [
        "####  Define the Dataset\n",
        "For simplicity, let’s continue with synthetic data:"
      ],
      "metadata": {
        "id": "hxEObYDlvRMK"
      }
    },
    {
      "cell_type": "code",
      "source": [
        "# Synthetic data for training\n",
        "X = torch.tensor([[1.0], [2.0], [3.0], [4.0], [5.0], [6.0]])\n",
        "Y = torch.tensor([[2.0], [4.0], [6.0], [8.0], [10.0], [12.0]])\n"
      ],
      "metadata": {
        "id": "WC-NsP80vQWm"
      },
      "execution_count": 4,
      "outputs": []
    },
    {
      "cell_type": "markdown",
      "source": [
        "#### Define a Deeper Model\n",
        "Add multiple layers and activation functions:"
      ],
      "metadata": {
        "id": "wve2hmOUvpYu"
      }
    },
    {
      "cell_type": "code",
      "source": [
        "# Define a deeper neural network\n",
        "class DeepNN(nn.Module):\n",
        "    def __init__(self):\n",
        "        super(DeepNN, self).__init__()\n",
        "        self.hidden1 = nn.Linear(1, 10)  # 1 input, 10 neurons in hidden layer 1\n",
        "        self.hidden2 = nn.Linear(10, 10) # 10 neurons in hidden layer 2\n",
        "        self.output = nn.Linear(10, 1)   # 1 output\n",
        "        self.activation = nn.ReLU()     # ReLU activation function\n",
        "\n",
        "    def forward(self, x):\n",
        "        x = self.activation(self.hidden1(x))  # Hidden layer 1\n",
        "        x = self.activation(self.hidden2(x))  # Hidden layer 2\n",
        "        x = self.output(x)                    # Output layer\n",
        "        return x\n",
        "\n",
        "# Initialize the model\n",
        "model = DeepNN()\n"
      ],
      "metadata": {
        "id": "0wTMBPBwvrgb"
      },
      "execution_count": 6,
      "outputs": []
    },
    {
      "cell_type": "markdown",
      "source": [
        "#### Define Loss and Optimizer"
      ],
      "metadata": {
        "id": "uFAYZq_wwCxI"
      }
    },
    {
      "cell_type": "code",
      "source": [
        "# Mean Squared Error loss\n",
        "criterion = nn.MSELoss()\n",
        "\n",
        "# Optimizer with a learning rate of 0.01\n",
        "optimizer = optim.SGD(model.parameters(), lr=0.01)\n"
      ],
      "metadata": {
        "id": "KqiQ2HbOwBeb"
      },
      "execution_count": 7,
      "outputs": []
    },
    {
      "cell_type": "markdown",
      "source": [
        "#### Train the Model\n",
        "Update the training loop for this deeper network:"
      ],
      "metadata": {
        "id": "8YkXGja1wJuR"
      }
    },
    {
      "cell_type": "code",
      "source": [
        "# Training loop\n",
        "for epoch in range(4000):  # Increase epochs for better training\n",
        "    # Forward pass\n",
        "    predictions = model(X)\n",
        "    loss = criterion(predictions, Y)\n",
        "\n",
        "    # Backward pass\n",
        "    optimizer.zero_grad()\n",
        "    loss.backward()\n",
        "    optimizer.step()\n",
        "\n",
        "    if (epoch + 1) % 100 == 0:  # Print loss every 20 epochs\n",
        "        print(f\"Epoch [{epoch + 1}/4000], Loss: {loss.item():.4f}\")\n"
      ],
      "metadata": {
        "colab": {
          "base_uri": "https://localhost:8080/"
        },
        "id": "CRpYIGeMwJnl",
        "outputId": "dd1bb009-b016-4995-a43a-4c6fa71188a7"
      },
      "execution_count": 9,
      "outputs": [
        {
          "output_type": "stream",
          "name": "stdout",
          "text": [
            "Epoch [100/4000], Loss: 0.2355\n",
            "Epoch [200/4000], Loss: 0.1338\n",
            "Epoch [300/4000], Loss: 0.0781\n",
            "Epoch [400/4000], Loss: 0.0467\n",
            "Epoch [500/4000], Loss: 0.0289\n",
            "Epoch [600/4000], Loss: 0.0185\n",
            "Epoch [700/4000], Loss: 0.0122\n",
            "Epoch [800/4000], Loss: 0.0084\n",
            "Epoch [900/4000], Loss: 0.0059\n",
            "Epoch [1000/4000], Loss: 0.0043\n",
            "Epoch [1100/4000], Loss: 0.0033\n",
            "Epoch [1200/4000], Loss: 0.0026\n",
            "Epoch [1300/4000], Loss: 0.0021\n",
            "Epoch [1400/4000], Loss: 0.0017\n",
            "Epoch [1500/4000], Loss: 0.0015\n",
            "Epoch [1600/4000], Loss: 0.0013\n",
            "Epoch [1700/4000], Loss: 0.0012\n",
            "Epoch [1800/4000], Loss: 0.0011\n",
            "Epoch [1900/4000], Loss: 0.0010\n",
            "Epoch [2000/4000], Loss: 0.0010\n",
            "Epoch [2100/4000], Loss: 0.0010\n",
            "Epoch [2200/4000], Loss: 0.0010\n",
            "Epoch [2300/4000], Loss: 0.0010\n",
            "Epoch [2400/4000], Loss: 0.0011\n",
            "Epoch [2500/4000], Loss: 0.0011\n",
            "Epoch [2600/4000], Loss: 0.0012\n",
            "Epoch [2700/4000], Loss: 0.0013\n",
            "Epoch [2800/4000], Loss: 0.0014\n",
            "Epoch [2900/4000], Loss: 0.0016\n",
            "Epoch [3000/4000], Loss: 0.0017\n",
            "Epoch [3100/4000], Loss: 0.0019\n",
            "Epoch [3200/4000], Loss: 0.0021\n",
            "Epoch [3300/4000], Loss: 0.0024\n",
            "Epoch [3400/4000], Loss: 0.0026\n",
            "Epoch [3500/4000], Loss: 0.0028\n",
            "Epoch [3600/4000], Loss: 0.0031\n",
            "Epoch [3700/4000], Loss: 0.0033\n",
            "Epoch [3800/4000], Loss: 0.0034\n",
            "Epoch [3900/4000], Loss: 0.0035\n",
            "Epoch [4000/4000], Loss: 0.0036\n"
          ]
        }
      ]
    },
    {
      "cell_type": "markdown",
      "source": [
        "#### Evaluate the Model:\n",
        "Test your model on some unseen data (e.g., torch.tensor([[7.0]])) to see how well it generalizes:"
      ],
      "metadata": {
        "id": "H0GEF0nFyFAw"
      }
    },
    {
      "cell_type": "code",
      "source": [
        "with torch.no_grad():\n",
        "    test_input = torch.tensor([[7.0]])\n",
        "    predicted_output = model(test_input)\n",
        "    print(f\"Prediction for input 7.0: {predicted_output.item():.2f}\")\n"
      ],
      "metadata": {
        "colab": {
          "base_uri": "https://localhost:8080/"
        },
        "id": "wuaYq6jkyE5f",
        "outputId": "d2f35df2-c1c9-4a87-c3aa-0955f05c7029"
      },
      "execution_count": 19,
      "outputs": [
        {
          "output_type": "stream",
          "name": "stdout",
          "text": [
            "Prediction for input 7.0: 14.09\n"
          ]
        }
      ]
    },
    {
      "cell_type": "markdown",
      "source": [
        "#### Save and Load the Model\n",
        "Saving and loading models is essential for reusing them"
      ],
      "metadata": {
        "id": "UHUfmSFAwlpV"
      }
    },
    {
      "cell_type": "code",
      "source": [
        "# Save the model\n",
        "torch.save(model.state_dict(), \"deep_nn_model_trained.pth\")\n",
        "print(\"Model saved!\")"
      ],
      "metadata": {
        "colab": {
          "base_uri": "https://localhost:8080/"
        },
        "id": "lKM9W_A_wlic",
        "outputId": "d518879c-3559-4473-929c-894410f80ad8"
      },
      "execution_count": 21,
      "outputs": [
        {
          "output_type": "stream",
          "name": "stdout",
          "text": [
            "Model saved!\n"
          ]
        }
      ]
    },
    {
      "cell_type": "code",
      "source": [
        "# Load the model and test it\n",
        "loaded_model = DeepNN()\n",
        "loaded_model.load_state_dict(torch.load(\"deep_nn_model_trained.pth\", weights_only=False))\n",
        "\n",
        "# Test the loaded model\n",
        "with torch.no_grad():\n",
        "    test_input = torch.tensor([[8.0]])\n",
        "    predicted_output = loaded_model(test_input)\n",
        "    print(f\"Prediction for input 8.0 (loaded model): {predicted_output.item():.2f}\")\n",
        "\n"
      ],
      "metadata": {
        "colab": {
          "base_uri": "https://localhost:8080/"
        },
        "id": "zZWzD8Whwx0o",
        "outputId": "c12df4a1-7997-4d87-9e6f-46070b6ebea9"
      },
      "execution_count": 23,
      "outputs": [
        {
          "output_type": "stream",
          "name": "stdout",
          "text": [
            "Prediction for input 8.0 (loaded model): 16.09\n"
          ]
        }
      ]
    },
    {
      "cell_type": "markdown",
      "source": [
        "#### Visualize the Training Progress (Optional):\n",
        "Plot the loss values over epochs to visualize how training progressed:"
      ],
      "metadata": {
        "id": "LoMXioXqxRyC"
      }
    },
    {
      "cell_type": "code",
      "source": [
        "import matplotlib.pyplot as plt\n",
        "\n",
        "losses = []\n",
        "\n",
        "# Update training loop to store losses\n",
        "for epoch in range(4000):\n",
        "    predictions = model(X)\n",
        "    loss = criterion(predictions, Y)\n",
        "    losses.append(loss.item())\n",
        "\n",
        "    optimizer.zero_grad()\n",
        "    loss.backward()\n",
        "    optimizer.step()\n",
        "\n",
        "plt.plot(losses)\n",
        "plt.xlabel(\"Epoch\")\n",
        "plt.ylabel(\"Loss\")\n",
        "plt.title(\"Training Loss Over Time\")\n",
        "plt.show()\n"
      ],
      "metadata": {
        "colab": {
          "base_uri": "https://localhost:8080/",
          "height": 472
        },
        "id": "l8mtrs9_y6m2",
        "outputId": "c18c0265-df74-4b1d-892e-f76e340b0136"
      },
      "execution_count": 24,
      "outputs": [
        {
          "output_type": "display_data",
          "data": {
            "text/plain": [
              "<Figure size 640x480 with 1 Axes>"
            ],
            "image/png": "[encoded data removed]"
          },
          "metadata": {}
        }
      ]
    },
    {
      "cell_type": "markdown",
      "source": [
        "### Add Custom Activation Functions\n",
        "Activation functions introduce non-linearity to the model, which is crucial for learning complex relationships. While PyTorch provides built-in activation functions, you can also define custom ones."
      ],
      "metadata": {
        "id": "LErNU8hKzjja"
      }
    },
    {
      "cell_type": "markdown",
      "source": [
        "#### Use a Built-In Activation Function"
      ],
      "metadata": {
        "id": "wnt-GDftzvPG"
      }
    },
    {
      "cell_type": "code",
      "source": [
        "class DeepNNWithSigmoid(nn.Module):\n",
        "    def __init__(self):\n",
        "        super(DeepNNWithSigmoid, self).__init__()\n",
        "        self.hidden1 = nn.Linear(1, 10)\n",
        "        self.hidden2 = nn.Linear(10, 10)\n",
        "        self.output = nn.Linear(10, 1)\n",
        "        self.activation = nn.Sigmoid()  # Use Sigmoid instead of ReLU\n",
        "\n",
        "    def forward(self, x):\n",
        "        x = self.activation(self.hidden1(x))\n",
        "        x = self.activation(self.hidden2(x))\n",
        "        x = self.output(x)\n",
        "        return x\n",
        "\n",
        "# Initialize and test this new model\n",
        "model = DeepNNWithSigmoid()\n"
      ],
      "metadata": {
        "id": "hCyXb6vVzxVJ"
      },
      "execution_count": 25,
      "outputs": []
    },
    {
      "cell_type": "markdown",
      "source": [
        "#### Define a Custom Activation Function"
      ],
      "metadata": {
        "id": "JCoWiR_s0ACb"
      }
    },
    {
      "cell_type": "code",
      "source": [
        "class DeepNNWithCustomActivation(nn.Module):\n",
        "    def __init__(self):\n",
        "        super(DeepNNWithCustomActivation, self).__init__()\n",
        "        self.hidden1 = nn.Linear(1, 10)\n",
        "        self.hidden2 = nn.Linear(10, 10)\n",
        "        self.output = nn.Linear(10, 1)\n",
        "\n",
        "    def custom_activation(self, x):\n",
        "        # Custom activation: Leaky ReLU with a fixed slope\n",
        "        return torch.where(x > 0, x, 0.01 * x)\n",
        "\n",
        "    def forward(self, x):\n",
        "        x = self.custom_activation(self.hidden1(x))\n",
        "        x = self.custom_activation(self.hidden2(x))\n",
        "        x = self.output(x)\n",
        "        return x\n",
        "\n",
        "# Initialize the new model\n",
        "model = DeepNNWithCustomActivation()\n"
      ],
      "metadata": {
        "id": "z8BT8s840FDA"
      },
      "execution_count": 27,
      "outputs": []
    },
    {
      "cell_type": "markdown",
      "source": [
        "#### Visualize Model Predictions\n",
        "Let’s visualize how well the model fits the data after training:"
      ],
      "metadata": {
        "id": "LMQ_dfje2FdH"
      }
    },
    {
      "cell_type": "code",
      "source": [
        "import matplotlib.pyplot as plt\n",
        "\n",
        "# Generate predictions\n",
        "with torch.no_grad():\n",
        "    inputs = torch.linspace(1, 10, 100).reshape(-1, 1)  # Generate 100 points between 1 and 10\n",
        "    predictions = model(inputs)\n",
        "\n",
        "# Plot the results\n",
        "plt.scatter(X.numpy(), Y.numpy(), label=\"Original Data\", color=\"blue\")\n",
        "plt.plot(inputs.numpy(), predictions.numpy(), label=\"Model Prediction\", color=\"red\")\n",
        "plt.legend()\n",
        "plt.title(\"Model Predictions vs Original Data\")\n",
        "plt.show()\n"
      ],
      "metadata": {
        "colab": {
          "base_uri": "https://localhost:8080/",
          "height": 452
        },
        "id": "LptSMt7j2FSE",
        "outputId": "78905769-48ef-4990-a5e5-5c7b2a0fa8d3"
      },
      "execution_count": 28,
      "outputs": [
        {
          "output_type": "display_data",
          "data": {
            "text/plain": [
              "<Figure size 640x480 with 1 Axes>"
            ],
            "image/png": "[encoded data removed]"
          },
          "metadata": {}
        }
      ]
    },
    {
      "cell_type": "markdown",
      "source": [
        "####  Transition to GPU"
      ],
      "metadata": {
        "id": "mdGuWB0x2X0C"
      }
    },
    {
      "cell_type": "code",
      "source": [
        "# Move model and data to GPU\n",
        "device = torch.device(\"cuda\")\n",
        "model = model.to(device)\n",
        "X = X.to(device)\n",
        "Y = Y.to(device)\n",
        "\n",
        "for epoch in range(4000):\n",
        "    predictions = model(X)\n",
        "    loss = criterion(predictions, Y)\n",
        "\n",
        "    optimizer.zero_grad()\n",
        "    loss.backward()\n",
        "    optimizer.step()\n"
      ],
      "metadata": {
        "id": "aKg6zJb-2cX9"
      },
      "execution_count": 30,
      "outputs": []
    },
    {
      "cell_type": "markdown",
      "source": [
        "### Add Regularization to Your Model\n",
        "Regularization helps prevent overfitting by constraining the model's capacity."
      ],
      "metadata": {
        "id": "at7vDn2d3Igj"
      }
    },
    {
      "cell_type": "markdown",
      "source": [
        "#### Add Dropout Regularization\n",
        "Dropout randomly disables neurons during training to prevent over-reliance on certain features:"
      ],
      "metadata": {
        "id": "TPuj1raU3RF6"
      }
    },
    {
      "cell_type": "code",
      "source": [
        "class DeepNNWithDropout(nn.Module):\n",
        "    def __init__(self):\n",
        "        super(DeepNNWithDropout, self).__init__()\n",
        "        self.hidden1 = nn.Linear(1, 10)\n",
        "        self.hidden2 = nn.Linear(10, 10)\n",
        "        self.dropout = nn.Dropout(p=0.5)  # Dropout with 50% probability\n",
        "        self.output = nn.Linear(10, 1)\n",
        "        self.activation = nn.ReLU()\n",
        "\n",
        "    def forward(self, x):\n",
        "        x = self.activation(self.hidden1(x))\n",
        "        x = self.dropout(x)  # Apply dropout\n",
        "        x = self.activation(self.hidden2(x))\n",
        "        x = self.dropout(x)  # Apply dropout\n",
        "        x = self.output(x)\n",
        "        return x\n",
        "\n",
        "# Initialize the model with dropout\n",
        "model = DeepNNWithDropout()\n"
      ],
      "metadata": {
        "id": "McQQsrkl3V1r"
      },
      "execution_count": 37,
      "outputs": []
    },
    {
      "cell_type": "code",
      "source": [
        "# Move model and data to GPU and train\n",
        "device = torch.device(\"cuda\")\n",
        "model = model.to(device)\n",
        "X = X.to(device)\n",
        "Y = Y.to(device)\n",
        "\n",
        "for epoch in range(4000):\n",
        "    predictions = model(X)\n",
        "    loss = criterion(predictions, Y)\n",
        "\n",
        "    optimizer.zero_grad()\n",
        "    loss.backward()\n",
        "    optimizer.step()"
      ],
      "metadata": {
        "id": "CqCZ8EwF34Wx"
      },
      "execution_count": 38,
      "outputs": []
    },
    {
      "cell_type": "code",
      "source": [
        "# Test\n",
        "\n",
        "model.eval()  # Set the model to evaluation mode\n",
        "with torch.no_grad():  # Disable gradient computation\n",
        "    test_X = torch.tensor([[4.0], [6.0]]).to(device)  # Example test inputs\n",
        "    test_predictions = model(test_X)\n",
        "    print(f\"Predictions for {test_X.cpu().numpy()}: {test_predictions.cpu().numpy()}\")\n"
      ],
      "metadata": {
        "colab": {
          "base_uri": "https://localhost:8080/"
        },
        "id": "JfYAk7nV4G6w",
        "outputId": "b877a830-212e-4b70-f524-8bf49ef90de0"
      },
      "execution_count": 40,
      "outputs": [
        {
          "output_type": "stream",
          "name": "stdout",
          "text": [
            "Predictions for [[4.]\n",
            " [6.]]: [[-0.15686135]\n",
            " [-0.16278069]]\n"
          ]
        }
      ]
    },
    {
      "cell_type": "markdown",
      "source": [
        "### FULL CODE"
      ],
      "metadata": {
        "id": "4PGImSod562N"
      }
    },
    {
      "cell_type": "code",
      "source": [
        "import torch\n",
        "import torch.nn as nn\n",
        "import torch.optim as optim\n",
        "\n",
        "# Dataset\n",
        "X = torch.rand(1000, 1) * 10  # 100 samples\n",
        "Y = 2 * X + torch.randn(1000, 1)  # Linear relationship with noise\n",
        "\n",
        "# Normalize data\n",
        "X_mean, X_std = X.mean(), X.std()\n",
        "Y_mean, Y_std = Y.mean(), Y.std()\n",
        "\n",
        "X = (X - X_mean) / X_std\n",
        "Y = (Y - Y_mean) / Y_std\n",
        "\n",
        "# Move to GPU\n",
        "device = torch.device(\"cuda\" if torch.cuda.is_available() else \"cpu\")\n",
        "X = X.to(device)\n",
        "Y = Y.to(device)\n",
        "\n",
        "# Model without Dropout (simplified)\n",
        "class SimpleNN(nn.Module):\n",
        "    def __init__(self):\n",
        "        super(SimpleNN, self).__init__()\n",
        "        self.hidden1 = nn.Linear(1, 10)\n",
        "        self.hidden2 = nn.Linear(10, 10)\n",
        "        self.output = nn.Linear(10, 1)\n",
        "        self.activation = nn.ReLU()\n",
        "\n",
        "    def forward(self, x):\n",
        "        x = self.activation(self.hidden1(x))\n",
        "        x = self.activation(self.hidden2(x))\n",
        "        x = self.output(x)\n",
        "        return x\n",
        "\n",
        "model = SimpleNN().to(device)\n",
        "\n",
        "# Loss function and optimizer\n",
        "criterion = nn.MSELoss()\n",
        "optimizer = optim.Adam(model.parameters(), lr=0.001)  # Adjusted learning rate\n",
        "\n",
        "# Training loop\n",
        "for epoch in range(5000):  # Reduced epochs\n",
        "    model.train()  # Enable training mode\n",
        "    predictions = model(X)\n",
        "    loss = criterion(predictions, Y)\n",
        "\n",
        "    optimizer.zero_grad()\n",
        "    loss.backward()\n",
        "    optimizer.step()\n",
        "\n",
        "    if (epoch + 1) % 500 == 0:\n",
        "        print(f\"Epoch {epoch + 1}, Loss: {loss.item():.6f}\")\n",
        "\n",
        "# Testing\n",
        "model.eval()  # Disable dropout\n",
        "with torch.no_grad():\n",
        "  test_X = torch.tensor([[2.0], [4.0], [6.0], [8.0], [10.0]]).to(device)\n",
        "  test_X = (test_X - X_mean) / X_std  # Normalize test data\n",
        "  test_predictions = model(test_X)\n",
        "  test_predictions = test_predictions * Y_std + Y_mean  # De-normalize predictions\n",
        "  print(f\"Test Predictions: {test_predictions.cpu().numpy()}\")\n",
        "\n"
      ],
      "metadata": {
        "colab": {
          "base_uri": "https://localhost:8080/"
        },
        "id": "hP_RQ9705NOF",
        "outputId": "b9a44afc-5de5-422e-988a-0fc39bf499e0"
      },
      "execution_count": 52,
      "outputs": [
        {
          "output_type": "stream",
          "name": "stdout",
          "text": [
            "Epoch 500, Loss: 0.031477\n",
            "Epoch 1000, Loss: 0.030109\n",
            "Epoch 1500, Loss: 0.030052\n",
            "Epoch 2000, Loss: 0.030036\n",
            "Epoch 2500, Loss: 0.030027\n",
            "Epoch 3000, Loss: 0.030020\n",
            "Epoch 3500, Loss: 0.030012\n",
            "Epoch 4000, Loss: 0.030005\n",
            "Epoch 4500, Loss: 0.029998\n",
            "Epoch 5000, Loss: 0.029989\n",
            "Test Predictions: [[ 3.9639568]\n",
            " [ 8.090665 ]\n",
            " [11.655995 ]\n",
            " [15.900648 ]\n",
            " [19.946861 ]]\n"
          ]
        }
      ]
    },
    {
      "cell_type": "code",
      "source": [
        "import matplotlib.pyplot as plt\n",
        "\n",
        "# Denormalize X and Y for visualization\n",
        "X_denorm = X.cpu().numpy() * X_std.cpu().numpy() + X_mean.cpu().numpy()\n",
        "Y_denorm = Y.cpu().numpy() * Y_std.cpu().numpy() + Y_mean.cpu().numpy()\n",
        "\n",
        "# Ground truth\n",
        "plt.scatter(X_denorm, Y_denorm, label=\"Ground Truth\", color='blue')\n",
        "\n",
        "# Predictions\n",
        "with torch.no_grad():\n",
        "    predictions = model(X) * Y_std + Y_mean  # Denormalize predictions\n",
        "    predictions_denorm = predictions.cpu().numpy()\n",
        "\n",
        "plt.scatter(X_denorm, predictions_denorm, label=\"Predictions\", color='red')\n",
        "\n",
        "# Labels and Legend\n",
        "plt.xlabel(\"X\")\n",
        "plt.ylabel(\"Y\")\n",
        "plt.legend()\n",
        "plt.title(\"Model Predictions vs Ground Truth\")\n",
        "plt.show()\n",
        "\n"
      ],
      "metadata": {
        "colab": {
          "base_uri": "https://localhost:8080/",
          "height": 472
        },
        "id": "JKaPjI4g87JT",
        "outputId": "da465c44-5fac-40f0-b54f-0801667dc172"
      },
      "execution_count": 54,
      "outputs": [
        {
          "output_type": "display_data",
          "data": {
            "text/plain": [
              "<Figure size 640x480 with 1 Axes>"
            ],
            "image/png": "[encoded data removed]"
          },
          "metadata": {}
        }
      ]
    },
    {
      "cell_type": "markdown",
      "source": [
        "### Create Dynamic Datasets\n",
        "For real-world problems, datasets often require preprocessing. Let’s simulate this with a dynamic dataset."
      ],
      "metadata": {
        "id": "r2XzKUsm9PE0"
      }
    },
    {
      "cell_type": "markdown",
      "source": [
        "#### Custom Dataset with Transformation\n",
        "Modify the dataset to add dynamic preprocessing:\n",
        "\n"
      ],
      "metadata": {
        "id": "nIL9YdTS9ZNl"
      }
    },
    {
      "cell_type": "code",
      "source": [
        "class DynamicDataset(Dataset):\n",
        "    def __init__(self, transform=None):\n",
        "        self.X = torch.linspace(1, 10, 100).reshape(-1, 1)  # 100 points\n",
        "        self.Y = 2 * self.X + 3  # Linear relationship\n",
        "        self.transform = transform\n",
        "\n",
        "    def __len__(self):\n",
        "        return len(self.X)\n",
        "\n",
        "    def __getitem__(self, index):\n",
        "        x, y = self.X[index], self.Y[index]\n",
        "        if self.transform:\n",
        "            x, y = self.transform(x), self.transform(y)  # Apply transformation\n",
        "        return x, y\n",
        "\n",
        "# Example transform (adding noise)\n",
        "def add_noise(tensor):\n",
        "    return tensor + torch.randn_like(tensor) * 0.1\n",
        "\n",
        "# Create dataset with noise\n",
        "dataset = DynamicDataset(transform=add_noise)\n",
        "data_loader = DataLoader(dataset, batch_size=10, shuffle=True)\n"
      ],
      "metadata": {
        "id": "nTu2a0bw9c7u"
      },
      "execution_count": 55,
      "outputs": []
    },
    {
      "cell_type": "markdown",
      "source": [
        "#### Train the model"
      ],
      "metadata": {
        "id": "O7exXOHr91AM"
      }
    },
    {
      "cell_type": "code",
      "source": [
        "\n",
        "# Linear regression model\n",
        "class LinearRegressionModel(nn.Module):\n",
        "    def __init__(self):\n",
        "        super(LinearRegressionModel, self).__init__()\n",
        "        self.linear = nn.Linear(1, 1)  # Input size 1, output size 1\n",
        "\n",
        "    def forward(self, x):\n",
        "        return self.linear(x)\n",
        "\n",
        "# Instantiate the model\n",
        "model = LinearRegressionModel()\n",
        "\n",
        "# Define the loss function (Mean Squared Error)\n",
        "loss_function = nn.MSELoss()\n",
        "\n",
        "# Define the optimizer (Stochastic Gradient Descent)\n",
        "optimizer = torch.optim.SGD(model.parameters(), lr=0.01)  # Learning rate 0.01\n",
        "\n",
        "# Training the model\n",
        "num_epochs = 100  # Number of times to iterate over the dataset\n",
        "\n",
        "for epoch in range(num_epochs):\n",
        "    for batch_idx, (x_batch, y_batch) in enumerate(data_loader):\n",
        "        # Forward pass: compute predictions\n",
        "        predictions = model(x_batch)\n",
        "\n",
        "        # Compute the loss\n",
        "        loss = loss_function(predictions, y_batch)\n",
        "\n",
        "        # Backward pass: compute gradients\n",
        "        optimizer.zero_grad()  # Clear previous gradients\n",
        "        loss.backward()        # Compute new gradients\n",
        "\n",
        "        # Update weights\n",
        "        optimizer.step()\n",
        "\n",
        "    # Print loss every 10 epochs\n",
        "    if (epoch + 1) % 10 == 0:\n",
        "        print(f'Epoch [{epoch + 1}/{num_epochs}], Loss: {loss.item():.4f}')\n"
      ],
      "metadata": {
        "colab": {
          "base_uri": "https://localhost:8080/"
        },
        "id": "psJHtRgV966u",
        "outputId": "0a4746fa-34b6-4c7e-a35a-0da06fb08497"
      },
      "execution_count": 58,
      "outputs": [
        {
          "output_type": "stream",
          "name": "stdout",
          "text": [
            "Epoch [10/100], Loss: 0.3763\n",
            "Epoch [20/100], Loss: 0.3289\n",
            "Epoch [30/100], Loss: 0.2131\n",
            "Epoch [40/100], Loss: 0.1433\n",
            "Epoch [50/100], Loss: 0.1807\n",
            "Epoch [60/100], Loss: 0.0905\n",
            "Epoch [70/100], Loss: 0.1227\n",
            "Epoch [80/100], Loss: 0.0185\n",
            "Epoch [90/100], Loss: 0.0757\n",
            "Epoch [100/100], Loss: 0.0427\n"
          ]
        }
      ]
    },
    {
      "cell_type": "markdown",
      "source": [
        "#### Test the model"
      ],
      "metadata": {
        "id": "e3WXmyP3-SVW"
      }
    },
    {
      "cell_type": "code",
      "source": [
        "# Put the model in evaluation mode\n",
        "model.eval()\n",
        "\n",
        "# Generate test data\n",
        "with torch.no_grad():  # No need to compute gradients during testing\n",
        "    test_X = torch.linspace(1, 10, 100).reshape(-1, 1)  # 100 points\n",
        "    test_Y = 2 * test_X + 3  # True relationship\n",
        "    predicted_Y = model(test_X)  # Model predictions\n",
        "\n",
        "# Plot the true data and predictions\n",
        "plt.figure(figsize=(8, 6))\n",
        "plt.scatter(test_X.numpy(), test_Y.numpy(), label=\"True Data\", color=\"blue\", s=10)\n",
        "plt.plot(test_X.numpy(), predicted_Y.numpy(), label=\"Model Predictions\", color=\"red\", linewidth=2)\n",
        "plt.title(\"Model Predictions vs. True Data\")\n",
        "plt.xlabel(\"X\")\n",
        "plt.ylabel(\"Y\")\n",
        "plt.legend()\n",
        "plt.show()\n"
      ],
      "metadata": {
        "colab": {
          "base_uri": "https://localhost:8080/",
          "height": 564
        },
        "id": "uBTaTVKo-Wqo",
        "outputId": "1eca86c4-5b40-4b0b-9ef5-cd0919189539"
      },
      "execution_count": 59,
      "outputs": [
        {
          "output_type": "display_data",
          "data": {
            "text/plain": [
              "<Figure size 800x600 with 1 Axes>"
            ],
            "image/png": "[encoded data removed]"
          },
          "metadata": {}
        }
      ]
    }
  ]
}